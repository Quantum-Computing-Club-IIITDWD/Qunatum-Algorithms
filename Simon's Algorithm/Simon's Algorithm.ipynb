{
 "cells": [
  {
   "cell_type": "markdown",
   "id": "d1157aac",
   "metadata": {},
   "source": [
    "QISKIT IMPLEMENTATION TO FIND SECRET BITSTRING"
   ]
  },
  {
   "cell_type": "code",
   "execution_count": 1,
   "id": "9e591db3",
   "metadata": {},
   "outputs": [],
   "source": [
    "#Importing Qiskit and plot histogram\n",
    "from qiskit import *\n",
    "from qiskit.visualization import plot_histogram"
   ]
  },
  {
   "cell_type": "raw",
   "id": "4c815d3b",
   "metadata": {},
   "source": [
    "Let the hidden bitsting b be '1011'"
   ]
  },
  {
   "cell_type": "code",
   "execution_count": 2,
   "id": "03d69d33",
   "metadata": {},
   "outputs": [],
   "source": [
    "b='1101'\n",
    "n = len(b)"
   ]
  },
  {
   "cell_type": "markdown",
   "id": "a58ed6e6",
   "metadata": {},
   "source": [
    "Step 1 : Create two n-qubit quantum registers initialised to zero state"
   ]
  },
  {
   "attachments": {
    "step%201.png": {
     "image/png": "[encoded data removed]"
    }
   },
   "cell_type": "markdown",
   "id": "de36439f",
   "metadata": {},
   "source": [
    "![step%201.png](attachment:step%201.png)              "
   ]
  },
  {
   "cell_type": "code",
   "execution_count": 3,
   "id": "f924d55e",
   "metadata": {
    "scrolled": false
   },
   "outputs": [
    {
     "data": {
      "text/html": [
       "<pre style=\"word-wrap: normal;white-space: pre;background: #fff0;line-height: 1.1;font-family: &quot;Courier New&quot;,Courier,monospace\">     \n",
       "q_0: \n",
       "     \n",
       "q_1: \n",
       "     \n",
       "q_2: \n",
       "     \n",
       "q_3: \n",
       "     \n",
       "q_4: \n",
       "     \n",
       "q_5: \n",
       "     \n",
       "q_6: \n",
       "     \n",
       "q_7: \n",
       "     \n",
       "c: 4/\n",
       "     </pre>"
      ],
      "text/plain": [
       "     \n",
       "q_0: \n",
       "     \n",
       "q_1: \n",
       "     \n",
       "q_2: \n",
       "     \n",
       "q_3: \n",
       "     \n",
       "q_4: \n",
       "     \n",
       "q_5: \n",
       "     \n",
       "q_6: \n",
       "     \n",
       "q_7: \n",
       "     \n",
       "c: 4/\n",
       "     "
      ]
     },
     "execution_count": 3,
     "metadata": {},
     "output_type": "execute_result"
    }
   ],
   "source": [
    "simon_circuit = QuantumCircuit(n*2, n)\n",
    "simon_circuit.draw()"
   ]
  },
  {
   "cell_type": "raw",
   "id": "f13836d2",
   "metadata": {},
   "source": []
  },
  {
   "cell_type": "markdown",
   "id": "58f4d665",
   "metadata": {},
   "source": [
    "Step 2 : Apply Hadamard transform to first register"
   ]
  },
  {
   "attachments": {
    "step%202.png": {
     "image/png": "[encoded data removed]"
    }
   },
   "cell_type": "markdown",
   "id": "9cf9dabb",
   "metadata": {},
   "source": [
    "![step%202.png](attachment:step%202.png)"
   ]
  },
  {
   "cell_type": "code",
   "execution_count": 4,
   "id": "e502e370",
   "metadata": {
    "scrolled": false
   },
   "outputs": [
    {
     "data": {
      "text/html": [
       "<pre style=\"word-wrap: normal;white-space: pre;background: #fff0;line-height: 1.1;font-family: &quot;Courier New&quot;,Courier,monospace\">     ┌───┐ ░ \n",
       "q_0: ┤ H ├─░─\n",
       "     ├───┤ ░ \n",
       "q_1: ┤ H ├─░─\n",
       "     ├───┤ ░ \n",
       "q_2: ┤ H ├─░─\n",
       "     ├───┤ ░ \n",
       "q_3: ┤ H ├─░─\n",
       "     └───┘ ░ \n",
       "q_4: ──────░─\n",
       "           ░ \n",
       "q_5: ──────░─\n",
       "           ░ \n",
       "q_6: ──────░─\n",
       "           ░ \n",
       "q_7: ──────░─\n",
       "           ░ \n",
       "c: 4/════════\n",
       "             </pre>"
      ],
      "text/plain": [
       "     ┌───┐ ░ \n",
       "q_0: ┤ H ├─░─\n",
       "     ├───┤ ░ \n",
       "q_1: ┤ H ├─░─\n",
       "     ├───┤ ░ \n",
       "q_2: ┤ H ├─░─\n",
       "     ├───┤ ░ \n",
       "q_3: ┤ H ├─░─\n",
       "     └───┘ ░ \n",
       "q_4: ──────░─\n",
       "           ░ \n",
       "q_5: ──────░─\n",
       "           ░ \n",
       "q_6: ──────░─\n",
       "           ░ \n",
       "q_7: ──────░─\n",
       "           ░ \n",
       "c: 4/════════\n",
       "             "
      ]
     },
     "execution_count": 4,
     "metadata": {},
     "output_type": "execute_result"
    }
   ],
   "source": [
    "simon_circuit.h(range(n))  \n",
    "simon_circuit.barrier()\n",
    "simon_circuit.draw()"
   ]
  },
  {
   "cell_type": "raw",
   "id": "46b0f6ac",
   "metadata": {},
   "source": []
  },
  {
   "cell_type": "markdown",
   "id": "8d8b2246",
   "metadata": {},
   "source": [
    "Step 3 : Apply Query Function<br>\n",
    "<br>\n",
    "It involves three steps"
   ]
  },
  {
   "cell_type": "markdown",
   "id": "a2d6f133",
   "metadata": {},
   "source": [
    "1.Create a copy of first register"
   ]
  },
  {
   "attachments": {
    "step%203.1.png": {
     "image/png": "[encoded data removed]"
    }
   },
   "cell_type": "markdown",
   "id": "98efddbb",
   "metadata": {},
   "source": [
    "![step%203.1.png](attachment:step%203.1.png)"
   ]
  },
  {
   "cell_type": "code",
   "execution_count": 5,
   "id": "0fc9d80c",
   "metadata": {
    "scrolled": true
   },
   "outputs": [
    {
     "data": {
      "text/html": [
       "<pre style=\"word-wrap: normal;white-space: pre;background: #fff0;line-height: 1.1;font-family: &quot;Courier New&quot;,Courier,monospace\">     ┌───┐ ░                     \n",
       "q_0: ┤ H ├─░───■─────────────────\n",
       "     ├───┤ ░   │                 \n",
       "q_1: ┤ H ├─░───┼────■────────────\n",
       "     ├───┤ ░   │    │            \n",
       "q_2: ┤ H ├─░───┼────┼────■───────\n",
       "     ├───┤ ░   │    │    │       \n",
       "q_3: ┤ H ├─░───┼────┼────┼────■──\n",
       "     └───┘ ░ ┌─┴─┐  │    │    │  \n",
       "q_4: ──────░─┤ X ├──┼────┼────┼──\n",
       "           ░ └───┘┌─┴─┐  │    │  \n",
       "q_5: ──────░──────┤ X ├──┼────┼──\n",
       "           ░      └───┘┌─┴─┐  │  \n",
       "q_6: ──────░───────────┤ X ├──┼──\n",
       "           ░           └───┘┌─┴─┐\n",
       "q_7: ──────░────────────────┤ X ├\n",
       "           ░                └───┘\n",
       "c: 4/════════════════════════════\n",
       "                                 </pre>"
      ],
      "text/plain": [
       "     ┌───┐ ░                     \n",
       "q_0: ┤ H ├─░───■─────────────────\n",
       "     ├───┤ ░   │                 \n",
       "q_1: ┤ H ├─░───┼────■────────────\n",
       "     ├───┤ ░   │    │            \n",
       "q_2: ┤ H ├─░───┼────┼────■───────\n",
       "     ├───┤ ░   │    │    │       \n",
       "q_3: ┤ H ├─░───┼────┼────┼────■──\n",
       "     └───┘ ░ ┌─┴─┐  │    │    │  \n",
       "q_4: ──────░─┤ X ├──┼────┼────┼──\n",
       "           ░ └───┘┌─┴─┐  │    │  \n",
       "q_5: ──────░──────┤ X ├──┼────┼──\n",
       "           ░      └───┘┌─┴─┐  │  \n",
       "q_6: ──────░───────────┤ X ├──┼──\n",
       "           ░           └───┘┌─┴─┐\n",
       "q_7: ──────░────────────────┤ X ├\n",
       "           ░                └───┘\n",
       "c: 4/════════════════════════════\n",
       "                                 "
      ]
     },
     "execution_count": 5,
     "metadata": {},
     "output_type": "execute_result"
    }
   ],
   "source": [
    "for i in range(n):\n",
    "    simon_circuit.cx(i,n+i)\n",
    "simon_circuit.draw()"
   ]
  },
  {
   "cell_type": "raw",
   "id": "b4ab563c",
   "metadata": {},
   "source": []
  },
  {
   "cell_type": "markdown",
   "id": "d1862820",
   "metadata": {},
   "source": [
    "2. Create one-to-one or two-to-one mapping\n",
    "<br>cx gate acts as XOR gate\n",
    "<br>One of the ways to do it is \n",
    "<ul>\n",
    "<li>choose an index j such that b[j]=1 and use that qubit as control qubit\n",
    "<li>For mapping find every k such that b[k]=1 then apply CX gate to that qubit in second register\n",
    "<li>incase no such j exists no XOR operations are performed\n",
    "<\\ul>"
   ]
  },
  {
   "attachments": {
    "step%203.2.png": {
     "image/png": "[encoded data removed]"
    }
   },
   "cell_type": "markdown",
   "id": "cbf2fae1",
   "metadata": {},
   "source": [
    "![step%203.2.png](attachment:step%203.2.png)"
   ]
  },
  {
   "cell_type": "code",
   "execution_count": 6,
   "id": "6ad0b749",
   "metadata": {
    "scrolled": false
   },
   "outputs": [
    {
     "data": {
      "text/html": [
       "<pre style=\"word-wrap: normal;white-space: pre;background: #fff0;line-height: 1.1;font-family: &quot;Courier New&quot;,Courier,monospace\">     ┌───┐ ░                                    \n",
       "q_0: ┤ H ├─░───■────────────────────────────────\n",
       "     ├───┤ ░   │                                \n",
       "q_1: ┤ H ├─░───┼────■───────────────────────────\n",
       "     ├───┤ ░   │    │                           \n",
       "q_2: ┤ H ├─░───┼────┼────■──────────────────────\n",
       "     ├───┤ ░   │    │    │                      \n",
       "q_3: ┤ H ├─░───┼────┼────┼────■────■────■────■──\n",
       "     └───┘ ░ ┌─┴─┐  │    │    │    │    │  ┌─┴─┐\n",
       "q_4: ──────░─┤ X ├──┼────┼────┼────┼────┼──┤ X ├\n",
       "           ░ └───┘┌─┴─┐  │    │    │    │  └───┘\n",
       "q_5: ──────░──────┤ X ├──┼────┼────┼────┼───────\n",
       "           ░      └───┘┌─┴─┐  │    │  ┌─┴─┐     \n",
       "q_6: ──────░───────────┤ X ├──┼────┼──┤ X ├─────\n",
       "           ░           └───┘┌─┴─┐┌─┴─┐└───┘     \n",
       "q_7: ──────░────────────────┤ X ├┤ X ├──────────\n",
       "           ░                └───┘└───┘          \n",
       "c: 4/═══════════════════════════════════════════\n",
       "                                                </pre>"
      ],
      "text/plain": [
       "     ┌───┐ ░                                    \n",
       "q_0: ┤ H ├─░───■────────────────────────────────\n",
       "     ├───┤ ░   │                                \n",
       "q_1: ┤ H ├─░───┼────■───────────────────────────\n",
       "     ├───┤ ░   │    │                           \n",
       "q_2: ┤ H ├─░───┼────┼────■──────────────────────\n",
       "     ├───┤ ░   │    │    │                      \n",
       "q_3: ┤ H ├─░───┼────┼────┼────■────■────■────■──\n",
       "     └───┘ ░ ┌─┴─┐  │    │    │    │    │  ┌─┴─┐\n",
       "q_4: ──────░─┤ X ├──┼────┼────┼────┼────┼──┤ X ├\n",
       "           ░ └───┘┌─┴─┐  │    │    │    │  └───┘\n",
       "q_5: ──────░──────┤ X ├──┼────┼────┼────┼───────\n",
       "           ░      └───┘┌─┴─┐  │    │  ┌─┴─┐     \n",
       "q_6: ──────░───────────┤ X ├──┼────┼──┤ X ├─────\n",
       "           ░           └───┘┌─┴─┐┌─┴─┐└───┘     \n",
       "q_7: ──────░────────────────┤ X ├┤ X ├──────────\n",
       "           ░                └───┘└───┘          \n",
       "c: 4/═══════════════════════════════════════════\n",
       "                                                "
      ]
     },
     "execution_count": 6,
     "metadata": {},
     "output_type": "execute_result"
    }
   ],
   "source": [
    "j=-1\n",
    "for i in range(n) :\n",
    "    if b[i]=='1' :\n",
    "        j=n-i-1\n",
    "        break\n",
    "\n",
    "for i in range(n) :\n",
    "    if b[i] == '1' :\n",
    "        simon_circuit.cx(j,2*n-1-i)\n",
    "simon_circuit.draw()"
   ]
  },
  {
   "cell_type": "raw",
   "id": "a895f835",
   "metadata": {},
   "source": []
  },
  {
   "cell_type": "markdown",
   "id": "f27103dd",
   "metadata": {},
   "source": [
    "3. Randomly permutate and flip the qubits on second register<br>\n",
    "<br>\n",
    "Any mapping of input to output satisfying the hidden string condition can be simplified to above steps for a particular third step and 3rd part doesnt affect the results as they represent outputs which have no relation to hidden string 'b'"
   ]
  },
  {
   "attachments": {
    "step%203.3.png": {
     "image/png": "[encoded data removed]"
    }
   },
   "cell_type": "markdown",
   "id": "a57c4233",
   "metadata": {},
   "source": [
    "![step%203.3.png](attachment:step%203.3.png)"
   ]
  },
  {
   "cell_type": "code",
   "execution_count": 7,
   "id": "07559dfc",
   "metadata": {},
   "outputs": [],
   "source": [
    "import random\n",
    "\n",
    "def rand_key(p):\n",
    "    key1 = \"\"\n",
    "    for i in range(p):\n",
    "        temp = str(random.randint(0, 1))\n",
    "        key1 += temp    \n",
    "    return(key1)"
   ]
  },
  {
   "cell_type": "code",
   "execution_count": 8,
   "id": "f1374e6f",
   "metadata": {
    "scrolled": true
   },
   "outputs": [
    {
     "data": {
      "text/html": [
       "<pre style=\"word-wrap: normal;white-space: pre;background: #fff0;line-height: 1.1;font-family: &quot;Courier New&quot;,Courier,monospace\">     ┌───┐ ░                                     ░      \n",
       "q_0: ┤ H ├─░───■─────────────────────────────────░──────\n",
       "     ├───┤ ░   │                                 ░      \n",
       "q_1: ┤ H ├─░───┼────■────────────────────────────░──────\n",
       "     ├───┤ ░   │    │                            ░      \n",
       "q_2: ┤ H ├─░───┼────┼────■───────────────────────░──────\n",
       "     ├───┤ ░   │    │    │                       ░      \n",
       "q_3: ┤ H ├─░───┼────┼────┼────■────■────■────■───░──────\n",
       "     └───┘ ░ ┌─┴─┐  │    │    │    │    │  ┌─┴─┐ ░      \n",
       "q_4: ──────░─┤ X ├──┼────┼────┼────┼────┼──┤ X ├─░──────\n",
       "           ░ └───┘┌─┴─┐  │    │    │    │  └───┘ ░      \n",
       "q_5: ──────░──────┤ X ├──┼────┼────┼────┼────────░──────\n",
       "           ░      └───┘┌─┴─┐  │    │  ┌─┴─┐      ░ ┌───┐\n",
       "q_6: ──────░───────────┤ X ├──┼────┼──┤ X ├──────░─┤ X ├\n",
       "           ░           └───┘┌─┴─┐┌─┴─┐└───┘      ░ ├───┤\n",
       "q_7: ──────░────────────────┤ X ├┤ X ├───────────░─┤ X ├\n",
       "           ░                └───┘└───┘           ░ └───┘\n",
       "c: 4/═══════════════════════════════════════════════════\n",
       "                                                        </pre>"
      ],
      "text/plain": [
       "     ┌───┐ ░                                     ░      \n",
       "q_0: ┤ H ├─░───■─────────────────────────────────░──────\n",
       "     ├───┤ ░   │                                 ░      \n",
       "q_1: ┤ H ├─░───┼────■────────────────────────────░──────\n",
       "     ├───┤ ░   │    │                            ░      \n",
       "q_2: ┤ H ├─░───┼────┼────■───────────────────────░──────\n",
       "     ├───┤ ░   │    │    │                       ░      \n",
       "q_3: ┤ H ├─░───┼────┼────┼────■────■────■────■───░──────\n",
       "     └───┘ ░ ┌─┴─┐  │    │    │    │    │  ┌─┴─┐ ░      \n",
       "q_4: ──────░─┤ X ├──┼────┼────┼────┼────┼──┤ X ├─░──────\n",
       "           ░ └───┘┌─┴─┐  │    │    │    │  └───┘ ░      \n",
       "q_5: ──────░──────┤ X ├──┼────┼────┼────┼────────░──────\n",
       "           ░      └───┘┌─┴─┐  │    │  ┌─┴─┐      ░ ┌───┐\n",
       "q_6: ──────░───────────┤ X ├──┼────┼──┤ X ├──────░─┤ X ├\n",
       "           ░           └───┘┌─┴─┐┌─┴─┐└───┘      ░ ├───┤\n",
       "q_7: ──────░────────────────┤ X ├┤ X ├───────────░─┤ X ├\n",
       "           ░                └───┘└───┘           ░ └───┘\n",
       "c: 4/═══════════════════════════════════════════════════\n",
       "                                                        "
      ]
     },
     "execution_count": 8,
     "metadata": {},
     "output_type": "execute_result"
    }
   ],
   "source": [
    "inp=rand_key(n)\n",
    "simon_circuit.barrier()\n",
    "for i in range(n) :\n",
    "        if inp[i]=='1' :\n",
    "            simon_circuit.x(2*n-i-1)\n",
    "\n",
    "simon_circuit.draw()"
   ]
  },
  {
   "cell_type": "markdown",
   "id": "742c2fcb",
   "metadata": {},
   "source": [
    "Step 4 : Measure second register (but we have no use of answer so we will be storing them in n classical bits then overwriting later)<br>\n",
    "Measuring creates a single f(x) thus we would have below as first register"
   ]
  },
  {
   "attachments": {
    "step%204.1.1.png": {
     "image/png": "[encoded data removed]"
    }
   },
   "cell_type": "markdown",
   "id": "f94eda41",
   "metadata": {},
   "source": [
    "![step%204.1.1.png](attachment:step%204.1.1.png)"
   ]
  },
  {
   "attachments": {
    "step%204.1.2.png": {
     "image/png": "[encoded data removed]"
    }
   },
   "cell_type": "markdown",
   "id": "4233f82b",
   "metadata": {},
   "source": [
    "![step%204.1.2.png](attachment:step%204.1.2.png)"
   ]
  },
  {
   "cell_type": "code",
   "execution_count": 9,
   "id": "10fb40d5",
   "metadata": {
    "scrolled": true
   },
   "outputs": [
    {
     "data": {
      "text/html": [
       "<pre style=\"word-wrap: normal;white-space: pre;background: #fff0;line-height: 1.1;font-family: &quot;Courier New&quot;,Courier,monospace\">     ┌───┐ ░                                     ░       ░              ░ \n",
       "q_0: ┤ H ├─░───■─────────────────────────────────░───────░──────────────░─\n",
       "     ├───┤ ░   │                                 ░       ░              ░ \n",
       "q_1: ┤ H ├─░───┼────■────────────────────────────░───────░──────────────░─\n",
       "     ├───┤ ░   │    │                            ░       ░              ░ \n",
       "q_2: ┤ H ├─░───┼────┼────■───────────────────────░───────░──────────────░─\n",
       "     ├───┤ ░   │    │    │                       ░       ░              ░ \n",
       "q_3: ┤ H ├─░───┼────┼────┼────■────■────■────■───░───────░──────────────░─\n",
       "     └───┘ ░ ┌─┴─┐  │    │    │    │    │  ┌─┴─┐ ░       ░ ┌─┐          ░ \n",
       "q_4: ──────░─┤ X ├──┼────┼────┼────┼────┼──┤ X ├─░───────░─┤M├──────────░─\n",
       "           ░ └───┘┌─┴─┐  │    │    │    │  └───┘ ░       ░ └╥┘┌─┐       ░ \n",
       "q_5: ──────░──────┤ X ├──┼────┼────┼────┼────────░───────░──╫─┤M├───────░─\n",
       "           ░      └───┘┌─┴─┐  │    │  ┌─┴─┐      ░ ┌───┐ ░  ║ └╥┘┌─┐    ░ \n",
       "q_6: ──────░───────────┤ X ├──┼────┼──┤ X ├──────░─┤ X ├─░──╫──╫─┤M├────░─\n",
       "           ░           └───┘┌─┴─┐┌─┴─┐└───┘      ░ ├───┤ ░  ║  ║ └╥┘┌─┐ ░ \n",
       "q_7: ──────░────────────────┤ X ├┤ X ├───────────░─┤ X ├─░──╫──╫──╫─┤M├─░─\n",
       "           ░                └───┘└───┘           ░ └───┘ ░  ║  ║  ║ └╥┘ ░ \n",
       "c: 4/═══════════════════════════════════════════════════════╩══╩══╩══╩════\n",
       "                                                            0  1  2  3    </pre>"
      ],
      "text/plain": [
       "     ┌───┐ ░                                     ░       ░              ░ \n",
       "q_0: ┤ H ├─░───■─────────────────────────────────░───────░──────────────░─\n",
       "     ├───┤ ░   │                                 ░       ░              ░ \n",
       "q_1: ┤ H ├─░───┼────■────────────────────────────░───────░──────────────░─\n",
       "     ├───┤ ░   │    │                            ░       ░              ░ \n",
       "q_2: ┤ H ├─░───┼────┼────■───────────────────────░───────░──────────────░─\n",
       "     ├───┤ ░   │    │    │                       ░       ░              ░ \n",
       "q_3: ┤ H ├─░───┼────┼────┼────■────■────■────■───░───────░──────────────░─\n",
       "     └───┘ ░ ┌─┴─┐  │    │    │    │    │  ┌─┴─┐ ░       ░ ┌─┐          ░ \n",
       "q_4: ──────░─┤ X ├──┼────┼────┼────┼────┼──┤ X ├─░───────░─┤M├──────────░─\n",
       "           ░ └───┘┌─┴─┐  │    │    │    │  └───┘ ░       ░ └╥┘┌─┐       ░ \n",
       "q_5: ──────░──────┤ X ├──┼────┼────┼────┼────────░───────░──╫─┤M├───────░─\n",
       "           ░      └───┘┌─┴─┐  │    │  ┌─┴─┐      ░ ┌───┐ ░  ║ └╥┘┌─┐    ░ \n",
       "q_6: ──────░───────────┤ X ├──┼────┼──┤ X ├──────░─┤ X ├─░──╫──╫─┤M├────░─\n",
       "           ░           └───┘┌─┴─┐┌─┴─┐└───┘      ░ ├───┤ ░  ║  ║ └╥┘┌─┐ ░ \n",
       "q_7: ──────░────────────────┤ X ├┤ X ├───────────░─┤ X ├─░──╫──╫──╫─┤M├─░─\n",
       "           ░                └───┘└───┘           ░ └───┘ ░  ║  ║  ║ └╥┘ ░ \n",
       "c: 4/═══════════════════════════════════════════════════════╩══╩══╩══╩════\n",
       "                                                            0  1  2  3    "
      ]
     },
     "execution_count": 9,
     "metadata": {},
     "output_type": "execute_result"
    }
   ],
   "source": [
    "simon_circuit.barrier()\n",
    "simon_circuit.measure(range(n,2*n), range(n))\n",
    "simon_circuit.barrier()\n",
    "simon_circuit.draw()"
   ]
  },
  {
   "cell_type": "markdown",
   "id": "b73c0db5",
   "metadata": {},
   "source": [
    "Step 5 : Apply Hadamard to first register (we wont have any use of second register from here)"
   ]
  },
  {
   "attachments": {
    "step%205.png": {
     "image/png": "[encoded data removed]"
    }
   },
   "cell_type": "markdown",
   "id": "10946481",
   "metadata": {},
   "source": [
    "![step%205.png](attachment:step%205.png)"
   ]
  },
  {
   "cell_type": "markdown",
   "id": "7b18def4",
   "metadata": {},
   "source": [
    "Which can be expanded as (normalising factor is ignored to see it simply but final state multiply it with 1/&radic;2^n+1"
   ]
  },
  {
   "attachments": {
    "step%205.2.png": {
     "image/png": "[encoded data removed]"
    }
   },
   "cell_type": "markdown",
   "id": "17495956",
   "metadata": {},
   "source": [
    "![step%205.2.png](attachment:step%205.2.png)"
   ]
  },
  {
   "cell_type": "markdown",
   "id": "f34bd506",
   "metadata": {},
   "source": [
    "Step 6 : Measure first register\n",
    "<br>We will get a string z as output and "
   ]
  },
  {
   "attachments": {
    "step%206.1.png": {
     "image/png": "[encoded data removed]"
    }
   },
   "cell_type": "markdown",
   "id": "9c00fc6c",
   "metadata": {},
   "source": [
    "![step%206.1.png](attachment:step%206.1.png)"
   ]
  },
  {
   "attachments": {
    "step%206.2.png": {
     "image/png": "[encoded data removed]"
    }
   },
   "cell_type": "markdown",
   "id": "5d55a116",
   "metadata": {},
   "source": [
    "![step%206.2.png](attachment:step%206.2.png)"
   ]
  },
  {
   "cell_type": "code",
   "execution_count": 10,
   "id": "b51ecca2",
   "metadata": {
    "scrolled": false
   },
   "outputs": [
    {
     "data": {
      "text/html": [
       "<pre style=\"word-wrap: normal;white-space: pre;background: #fff0;line-height: 1.1;font-family: &quot;Courier New&quot;,Courier,monospace\">     ┌───┐ ░                                     ░       ░              ░ ┌───┐»\n",
       "q_0: ┤ H ├─░───■─────────────────────────────────░───────░──────────────░─┤ H ├»\n",
       "     ├───┤ ░   │                                 ░       ░              ░ ├───┤»\n",
       "q_1: ┤ H ├─░───┼────■────────────────────────────░───────░──────────────░─┤ H ├»\n",
       "     ├───┤ ░   │    │                            ░       ░              ░ ├───┤»\n",
       "q_2: ┤ H ├─░───┼────┼────■───────────────────────░───────░──────────────░─┤ H ├»\n",
       "     ├───┤ ░   │    │    │                       ░       ░              ░ ├───┤»\n",
       "q_3: ┤ H ├─░───┼────┼────┼────■────■────■────■───░───────░──────────────░─┤ H ├»\n",
       "     └───┘ ░ ┌─┴─┐  │    │    │    │    │  ┌─┴─┐ ░       ░ ┌─┐          ░ └───┘»\n",
       "q_4: ──────░─┤ X ├──┼────┼────┼────┼────┼──┤ X ├─░───────░─┤M├──────────░──────»\n",
       "           ░ └───┘┌─┴─┐  │    │    │    │  └───┘ ░       ░ └╥┘┌─┐       ░      »\n",
       "q_5: ──────░──────┤ X ├──┼────┼────┼────┼────────░───────░──╫─┤M├───────░──────»\n",
       "           ░      └───┘┌─┴─┐  │    │  ┌─┴─┐      ░ ┌───┐ ░  ║ └╥┘┌─┐    ░      »\n",
       "q_6: ──────░───────────┤ X ├──┼────┼──┤ X ├──────░─┤ X ├─░──╫──╫─┤M├────░──────»\n",
       "           ░           └───┘┌─┴─┐┌─┴─┐└───┘      ░ ├───┤ ░  ║  ║ └╥┘┌─┐ ░      »\n",
       "q_7: ──────░────────────────┤ X ├┤ X ├───────────░─┤ X ├─░──╫──╫──╫─┤M├─░──────»\n",
       "           ░                └───┘└───┘           ░ └───┘ ░  ║  ║  ║ └╥┘ ░      »\n",
       "c: 4/═══════════════════════════════════════════════════════╩══╩══╩══╩═════════»\n",
       "                                                            0  1  2  3         »\n",
       "«     ┌─┐         \n",
       "«q_0: ┤M├─────────\n",
       "«     └╥┘┌─┐      \n",
       "«q_1: ─╫─┤M├──────\n",
       "«      ║ └╥┘┌─┐   \n",
       "«q_2: ─╫──╫─┤M├───\n",
       "«      ║  ║ └╥┘┌─┐\n",
       "«q_3: ─╫──╫──╫─┤M├\n",
       "«      ║  ║  ║ └╥┘\n",
       "«q_4: ─╫──╫──╫──╫─\n",
       "«      ║  ║  ║  ║ \n",
       "«q_5: ─╫──╫──╫──╫─\n",
       "«      ║  ║  ║  ║ \n",
       "«q_6: ─╫──╫──╫──╫─\n",
       "«      ║  ║  ║  ║ \n",
       "«q_7: ─╫──╫──╫──╫─\n",
       "«      ║  ║  ║  ║ \n",
       "«c: 4/═╩══╩══╩══╩═\n",
       "«      0  1  2  3 </pre>"
      ],
      "text/plain": [
       "     ┌───┐ ░                                     ░       ░              ░ ┌───┐»\n",
       "q_0: ┤ H ├─░───■─────────────────────────────────░───────░──────────────░─┤ H ├»\n",
       "     ├───┤ ░   │                                 ░       ░              ░ ├───┤»\n",
       "q_1: ┤ H ├─░───┼────■────────────────────────────░───────░──────────────░─┤ H ├»\n",
       "     ├───┤ ░   │    │                            ░       ░              ░ ├───┤»\n",
       "q_2: ┤ H ├─░───┼────┼────■───────────────────────░───────░──────────────░─┤ H ├»\n",
       "     ├───┤ ░   │    │    │                       ░       ░              ░ ├───┤»\n",
       "q_3: ┤ H ├─░───┼────┼────┼────■────■────■────■───░───────░──────────────░─┤ H ├»\n",
       "     └───┘ ░ ┌─┴─┐  │    │    │    │    │  ┌─┴─┐ ░       ░ ┌─┐          ░ └───┘»\n",
       "q_4: ──────░─┤ X ├──┼────┼────┼────┼────┼──┤ X ├─░───────░─┤M├──────────░──────»\n",
       "           ░ └───┘┌─┴─┐  │    │    │    │  └───┘ ░       ░ └╥┘┌─┐       ░      »\n",
       "q_5: ──────░──────┤ X ├──┼────┼────┼────┼────────░───────░──╫─┤M├───────░──────»\n",
       "           ░      └───┘┌─┴─┐  │    │  ┌─┴─┐      ░ ┌───┐ ░  ║ └╥┘┌─┐    ░      »\n",
       "q_6: ──────░───────────┤ X ├──┼────┼──┤ X ├──────░─┤ X ├─░──╫──╫─┤M├────░──────»\n",
       "           ░           └───┘┌─┴─┐┌─┴─┐└───┘      ░ ├───┤ ░  ║  ║ └╥┘┌─┐ ░      »\n",
       "q_7: ──────░────────────────┤ X ├┤ X ├───────────░─┤ X ├─░──╫──╫──╫─┤M├─░──────»\n",
       "           ░                └───┘└───┘           ░ └───┘ ░  ║  ║  ║ └╥┘ ░      »\n",
       "c: 4/═══════════════════════════════════════════════════════╩══╩══╩══╩═════════»\n",
       "                                                            0  1  2  3         »\n",
       "«     ┌─┐         \n",
       "«q_0: ┤M├─────────\n",
       "«     └╥┘┌─┐      \n",
       "«q_1: ─╫─┤M├──────\n",
       "«      ║ └╥┘┌─┐   \n",
       "«q_2: ─╫──╫─┤M├───\n",
       "«      ║  ║ └╥┘┌─┐\n",
       "«q_3: ─╫──╫──╫─┤M├\n",
       "«      ║  ║  ║ └╥┘\n",
       "«q_4: ─╫──╫──╫──╫─\n",
       "«      ║  ║  ║  ║ \n",
       "«q_5: ─╫──╫──╫──╫─\n",
       "«      ║  ║  ║  ║ \n",
       "«q_6: ─╫──╫──╫──╫─\n",
       "«      ║  ║  ║  ║ \n",
       "«q_7: ─╫──╫──╫──╫─\n",
       "«      ║  ║  ║  ║ \n",
       "«c: 4/═╩══╩══╩══╩═\n",
       "«      0  1  2  3 "
      ]
     },
     "execution_count": 10,
     "metadata": {},
     "output_type": "execute_result"
    }
   ],
   "source": [
    "simon_circuit.h(range(n))\n",
    "simon_circuit.measure(range(n),range(n))\n",
    "simon_circuit.draw()"
   ]
  },
  {
   "cell_type": "markdown",
   "id": "4d756e2b",
   "metadata": {},
   "source": [
    "A string z will be measured, whose inner product with  b=0. But a z value can have multiple b values. Thus, repeating the algorithm  ≈n times, we will be able to obtain n different values of z and the following system of equation can be written:"
   ]
  },
  {
   "attachments": {
    "step%206.3.png": {
     "image/png": "[encoded data removed]"
    }
   },
   "cell_type": "markdown",
   "id": "a6cbec36",
   "metadata": {},
   "source": [
    "![step%206.3.png](attachment:step%206.3.png)"
   ]
  },
  {
   "cell_type": "code",
   "execution_count": 11,
   "id": "4191cfc6",
   "metadata": {},
   "outputs": [
    {
     "name": "stdout",
     "output_type": "stream",
     "text": [
      "{'1100': 136, '0000': 142, '0111': 124, '1110': 137, '0101': 137, '1011': 119, '0010': 113, '1001': 116}\n"
     ]
    }
   ],
   "source": [
    "aer_sim = Aer.get_backend('aer_simulator')\n",
    "shots = 1024\n",
    "qobj = assemble(simon_circuit, shots=shots)\n",
    "results = aer_sim.run(qobj).result()\n",
    "counts = results.get_counts()\n",
    "print(counts)"
   ]
  },
  {
   "cell_type": "markdown",
   "id": "5f9e06f5",
   "metadata": {},
   "source": [
    "If function is one-to-one histogram would be uniform and containing all states whereas two-to-one would not be uniform and would have half number of states with same probability rest have would have zero probability"
   ]
  },
  {
   "cell_type": "code",
   "execution_count": 12,
   "id": "f8bb944c",
   "metadata": {
    "scrolled": false
   },
   "outputs": [
    {
     "data": {
      "image/png": "[encoded data removed]",
      "text/plain": [
       "<Figure size 504x360 with 1 Axes>"
      ]
     },
     "execution_count": 12,
     "metadata": {},
     "output_type": "execute_result"
    }
   ],
   "source": [
    "plot_histogram(counts)"
   ]
  },
  {
   "cell_type": "markdown",
   "id": "a02dae4c",
   "metadata": {},
   "source": [
    "let the secret binary string b be b1,b2,b3,b4  <br>\n",
    "Lets assume we measure 0010 in first turn so   <br>\n",
    " Therefore  <br> \n",
    " <font size=\"+1\">(b1.0)+(b2.0)+(b3.1)+(b4.0)=0</font><br>\n",
    "    hence <br>\n",
    "    <font size=\"+1\">b3=0</font>\n"
   ]
  },
  {
   "cell_type": "markdown",
   "id": "5fe84c03",
   "metadata": {},
   "source": [
    "taking z=0101\n",
    "we get either <br>\n",
    "<font size=\"+1\">b2=0 and b4=0 or\n",
    "b2=1 and b4=1</font>"
   ]
  },
  {
   "cell_type": "markdown",
   "id": "9bfffa96",
   "metadata": {},
   "source": [
    "similarlt taking z=1100\n",
    "we get either <br>\n",
    "<font size=\"+1\">b1=0 and b2=0 or\n",
    "b1=1 and b2=1</font><br>\n",
    "and taking z=1001\n",
    "we get either <br>\n",
    "<font size=\"+1\">b1=0 and b4=0 or\n",
    "b1=1 and b4=1</font>"
   ]
  },
  {
   "cell_type": "markdown",
   "id": "abefb6e1",
   "metadata": {},
   "source": [
    "(We can solve 4 equations in any way like gaussian elimination)"
   ]
  },
  {
   "cell_type": "markdown",
   "id": "24f2f643",
   "metadata": {},
   "source": [
    "From above four solutions we get that b is either '0000' or '1101' \n",
    "Since '0000' is a trivial solution we get '1101' as secret string\n",
    "if there exist no other solution '0000' is the secret bitsring"
   ]
  },
  {
   "cell_type": "markdown",
   "id": "91d05ffe",
   "metadata": {},
   "source": [
    "We can verify if the z satisfy the secret bit string b"
   ]
  },
  {
   "cell_type": "code",
   "execution_count": 13,
   "id": "6e6d9e0b",
   "metadata": {
    "scrolled": true
   },
   "outputs": [
    {
     "name": "stdout",
     "output_type": "stream",
     "text": [
      "b = 1101\n",
      "1101.1100 = 0 (mod 2)\n",
      "1101.0000 = 0 (mod 2)\n",
      "1101.0111 = 0 (mod 2)\n",
      "1101.1110 = 0 (mod 2)\n",
      "1101.0101 = 0 (mod 2)\n",
      "1101.1011 = 0 (mod 2)\n",
      "1101.0010 = 0 (mod 2)\n",
      "1101.1001 = 0 (mod 2)\n"
     ]
    }
   ],
   "source": [
    "def bdotz(b, z):\n",
    "    accum = 0\n",
    "    for i in range(len(b)):\n",
    "        accum += int(b[i]) * int(z[i])\n",
    "    return (accum % 2 )\n",
    "\n",
    "print('b = ' + b)\n",
    "for z in counts:\n",
    "    print( '{}.{} = {} (mod 2)'.format(b, z, bdotz(b,z)) )"
   ]
  }
 ],
 "metadata": {
  "kernelspec": {
   "display_name": "Python 3 (ipykernel)",
   "language": "python",
   "name": "python3"
  },
  "language_info": {
   "codemirror_mode": {
    "name": "ipython",
    "version": 3
   },
   "file_extension": ".py",
   "mimetype": "text/x-python",
   "name": "python",
   "nbconvert_exporter": "python",
   "pygments_lexer": "ipython3",
   "version": "3.9.7"
  }
 },
 "nbformat": 4,
 "nbformat_minor": 5
}
