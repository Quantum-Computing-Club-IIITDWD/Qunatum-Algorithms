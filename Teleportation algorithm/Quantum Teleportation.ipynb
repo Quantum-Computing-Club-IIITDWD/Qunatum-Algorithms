{
 "cells": [
  {
   "cell_type": "code",
   "execution_count": 11,
   "id": "847d325c",
   "metadata": {},
   "outputs": [
    {
     "name": "stdout",
     "output_type": "stream",
     "text": [
      "Requirement already satisfied: qiskit in c:\\users\\tathya jha\\anaconda3.1\\lib\\site-packages (0.36.2)\n",
      "Requirement already satisfied: qiskit-aer==0.10.4 in c:\\users\\tathya jha\\anaconda3.1\\lib\\site-packages (from qiskit) (0.10.4)\n",
      "Requirement already satisfied: qiskit-ignis==0.7.1 in c:\\users\\tathya jha\\anaconda3.1\\lib\\site-packages (from qiskit) (0.7.1)\n",
      "Requirement already satisfied: qiskit-ibmq-provider==0.19.1 in c:\\users\\tathya jha\\anaconda3.1\\lib\\site-packages (from qiskit) (0.19.1)\n",
      "Requirement already satisfied: qiskit-terra==0.20.2 in c:\\users\\tathya jha\\anaconda3.1\\lib\\site-packages (from qiskit) (0.20.2)\n",
      "Requirement already satisfied: numpy>=1.16.3 in c:\\users\\tathya jha\\anaconda3.1\\lib\\site-packages (from qiskit-aer==0.10.4->qiskit) (1.21.5)\n",
      "Requirement already satisfied: scipy>=1.0 in c:\\users\\tathya jha\\anaconda3.1\\lib\\site-packages (from qiskit-aer==0.10.4->qiskit) (1.7.3)\n",
      "Requirement already satisfied: requests>=2.19 in c:\\users\\tathya jha\\anaconda3.1\\lib\\site-packages (from qiskit-ibmq-provider==0.19.1->qiskit) (2.27.1)\n",
      "Requirement already satisfied: websocket-client>=1.0.1 in c:\\users\\tathya jha\\anaconda3.1\\lib\\site-packages (from qiskit-ibmq-provider==0.19.1->qiskit) (1.3.2)\n",
      "Requirement already satisfied: urllib3>=1.21.1 in c:\\users\\tathya jha\\anaconda3.1\\lib\\site-packages (from qiskit-ibmq-provider==0.19.1->qiskit) (1.26.9)\n",
      "Requirement already satisfied: websockets>=10.0 in c:\\users\\tathya jha\\anaconda3.1\\lib\\site-packages (from qiskit-ibmq-provider==0.19.1->qiskit) (10.3)\n",
      "Requirement already satisfied: python-dateutil>=2.8.0 in c:\\users\\tathya jha\\anaconda3.1\\lib\\site-packages (from qiskit-ibmq-provider==0.19.1->qiskit) (2.8.2)\n",
      "Requirement already satisfied: requests-ntlm>=1.1.0 in c:\\users\\tathya jha\\anaconda3.1\\lib\\site-packages (from qiskit-ibmq-provider==0.19.1->qiskit) (1.1.0)\n",
      "Requirement already satisfied: setuptools>=40.1.0 in c:\\users\\tathya jha\\anaconda3.1\\lib\\site-packages (from qiskit-ignis==0.7.1->qiskit) (61.2.0)\n",
      "Requirement already satisfied: retworkx>=0.8.0 in c:\\users\\tathya jha\\anaconda3.1\\lib\\site-packages (from qiskit-ignis==0.7.1->qiskit) (0.11.0)\n",
      "Requirement already satisfied: ply>=3.10 in c:\\users\\tathya jha\\anaconda3.1\\lib\\site-packages (from qiskit-terra==0.20.2->qiskit) (3.11)\n",
      "Requirement already satisfied: dill>=0.3 in c:\\users\\tathya jha\\anaconda3.1\\lib\\site-packages (from qiskit-terra==0.20.2->qiskit) (0.3.5.1)\n",
      "Requirement already satisfied: tweedledum<2.0,>=1.1 in c:\\users\\tathya jha\\anaconda3.1\\lib\\site-packages (from qiskit-terra==0.20.2->qiskit) (1.1.1)\n",
      "Requirement already satisfied: sympy>=1.3 in c:\\users\\tathya jha\\anaconda3.1\\lib\\site-packages (from qiskit-terra==0.20.2->qiskit) (1.10.1)\n",
      "Requirement already satisfied: python-constraint>=1.4 in c:\\users\\tathya jha\\anaconda3.1\\lib\\site-packages (from qiskit-terra==0.20.2->qiskit) (1.4.0)\n",
      "Requirement already satisfied: stevedore>=3.0.0 in c:\\users\\tathya jha\\anaconda3.1\\lib\\site-packages (from qiskit-terra==0.20.2->qiskit) (3.5.0)\n",
      "Requirement already satisfied: psutil>=5 in c:\\users\\tathya jha\\anaconda3.1\\lib\\site-packages (from qiskit-terra==0.20.2->qiskit) (5.8.0)\n",
      "Requirement already satisfied: six>=1.5 in c:\\users\\tathya jha\\anaconda3.1\\lib\\site-packages (from python-dateutil>=2.8.0->qiskit-ibmq-provider==0.19.1->qiskit) (1.16.0)\n",
      "Requirement already satisfied: idna<4,>=2.5 in c:\\users\\tathya jha\\anaconda3.1\\lib\\site-packages (from requests>=2.19->qiskit-ibmq-provider==0.19.1->qiskit) (3.3)\n",
      "Requirement already satisfied: charset-normalizer~=2.0.0 in c:\\users\\tathya jha\\anaconda3.1\\lib\\site-packages (from requests>=2.19->qiskit-ibmq-provider==0.19.1->qiskit) (2.0.4)\n",
      "Requirement already satisfied: certifi>=2017.4.17 in c:\\users\\tathya jha\\anaconda3.1\\lib\\site-packages (from requests>=2.19->qiskit-ibmq-provider==0.19.1->qiskit) (2021.10.8)\n",
      "Requirement already satisfied: ntlm-auth>=1.0.2 in c:\\users\\tathya jha\\anaconda3.1\\lib\\site-packages (from requests-ntlm>=1.1.0->qiskit-ibmq-provider==0.19.1->qiskit) (1.5.0)\n",
      "Requirement already satisfied: cryptography>=1.3 in c:\\users\\tathya jha\\anaconda3.1\\lib\\site-packages (from requests-ntlm>=1.1.0->qiskit-ibmq-provider==0.19.1->qiskit) (3.4.8)\n",
      "Requirement already satisfied: cffi>=1.12 in c:\\users\\tathya jha\\anaconda3.1\\lib\\site-packages (from cryptography>=1.3->requests-ntlm>=1.1.0->qiskit-ibmq-provider==0.19.1->qiskit) (1.15.0)\n",
      "Requirement already satisfied: pycparser in c:\\users\\tathya jha\\anaconda3.1\\lib\\site-packages (from cffi>=1.12->cryptography>=1.3->requests-ntlm>=1.1.0->qiskit-ibmq-provider==0.19.1->qiskit) (2.21)\n",
      "Requirement already satisfied: pbr!=2.1.0,>=2.0.0 in c:\\users\\tathya jha\\anaconda3.1\\lib\\site-packages (from stevedore>=3.0.0->qiskit-terra==0.20.2->qiskit) (5.9.0)\n",
      "Requirement already satisfied: mpmath>=0.19 in c:\\users\\tathya jha\\anaconda3.1\\lib\\site-packages (from sympy>=1.3->qiskit-terra==0.20.2->qiskit) (1.2.1)\n"
     ]
    }
   ],
   "source": [
    "! pip install qiskit"
   ]
  },
  {
   "cell_type": "code",
   "execution_count": 13,
   "id": "4aa139e3",
   "metadata": {},
   "outputs": [],
   "source": [
    "from qiskit import *\n",
    "from qiskit.visualization import plot_histogram\n"
   ]
  },
  {
   "cell_type": "code",
   "execution_count": 14,
   "id": "01d05823",
   "metadata": {},
   "outputs": [
    {
     "data": {
      "text/html": [
       "<pre style=\"word-wrap: normal;white-space: pre;background: #fff0;line-height: 1.1;font-family: &quot;Courier New&quot;,Courier,monospace\">     \n",
       "q_0: \n",
       "     \n",
       "q_1: \n",
       "     \n",
       "q_2: \n",
       "     \n",
       "c: 3/\n",
       "     </pre>"
      ],
      "text/plain": [
       "     \n",
       "q_0: \n",
       "     \n",
       "q_1: \n",
       "     \n",
       "q_2: \n",
       "     \n",
       "c: 3/\n",
       "     "
      ]
     },
     "execution_count": 14,
     "metadata": {},
     "output_type": "execute_result"
    }
   ],
   "source": [
    "qc = QuantumCircuit(3,3)\n",
    "qc.draw()"
   ]
  },
  {
   "cell_type": "code",
   "execution_count": 15,
   "id": "b66fab50",
   "metadata": {},
   "outputs": [
    {
     "data": {
      "text/html": [
       "<pre style=\"word-wrap: normal;white-space: pre;background: #fff0;line-height: 1.1;font-family: &quot;Courier New&quot;,Courier,monospace\">     ┌───┐ ░            ░ \n",
       "q_0: ┤ X ├─░────────────░─\n",
       "     └───┘ ░ ┌───┐      ░ \n",
       "q_1: ──────░─┤ H ├──■───░─\n",
       "           ░ └───┘┌─┴─┐ ░ \n",
       "q_2: ──────░──────┤ X ├─░─\n",
       "           ░      └───┘ ░ \n",
       "c: 3/═════════════════════\n",
       "                          </pre>"
      ],
      "text/plain": [
       "     ┌───┐ ░            ░ \n",
       "q_0: ┤ X ├─░────────────░─\n",
       "     └───┘ ░ ┌───┐      ░ \n",
       "q_1: ──────░─┤ H ├──■───░─\n",
       "           ░ └───┘┌─┴─┐ ░ \n",
       "q_2: ──────░──────┤ X ├─░─\n",
       "           ░      └───┘ ░ \n",
       "c: 3/═════════════════════\n",
       "                          "
      ]
     },
     "execution_count": 15,
     "metadata": {},
     "output_type": "execute_result"
    }
   ],
   "source": [
    "qc.x(0)\n",
    "qc.barrier()\n",
    "qc.h(1)\n",
    "qc.cx(1,2)\n",
    "qc.barrier()\n",
    "qc.draw()"
   ]
  },
  {
   "cell_type": "code",
   "execution_count": 16,
   "id": "8975284c",
   "metadata": {},
   "outputs": [
    {
     "data": {
      "text/html": [
       "<pre style=\"word-wrap: normal;white-space: pre;background: #fff0;line-height: 1.1;font-family: &quot;Courier New&quot;,Courier,monospace\">     ┌───┐ ░            ░      ┌───┐ ░ ┌─┐    ░          ░    \n",
       "q_0: ┤ X ├─░────────────░───■──┤ H ├─░─┤M├────░───────■──░────\n",
       "     └───┘ ░ ┌───┐      ░ ┌─┴─┐└───┘ ░ └╥┘┌─┐ ░       │  ░    \n",
       "q_1: ──────░─┤ H ├──■───░─┤ X ├──────░──╫─┤M├─░───■───┼──░────\n",
       "           ░ └───┘┌─┴─┐ ░ └───┘      ░  ║ └╥┘ ░ ┌─┴─┐ │  ░ ┌─┐\n",
       "q_2: ──────░──────┤ X ├─░────────────░──╫──╫──░─┤ X ├─■──░─┤M├\n",
       "           ░      └───┘ ░            ░  ║  ║  ░ └───┘    ░ └╥┘\n",
       "c: 3/═══════════════════════════════════╩══╩════════════════╩═\n",
       "                                        0  1                2 </pre>"
      ],
      "text/plain": [
       "     ┌───┐ ░            ░      ┌───┐ ░ ┌─┐    ░          ░    \n",
       "q_0: ┤ X ├─░────────────░───■──┤ H ├─░─┤M├────░───────■──░────\n",
       "     └───┘ ░ ┌───┐      ░ ┌─┴─┐└───┘ ░ └╥┘┌─┐ ░       │  ░    \n",
       "q_1: ──────░─┤ H ├──■───░─┤ X ├──────░──╫─┤M├─░───■───┼──░────\n",
       "           ░ └───┘┌─┴─┐ ░ └───┘      ░  ║ └╥┘ ░ ┌─┴─┐ │  ░ ┌─┐\n",
       "q_2: ──────░──────┤ X ├─░────────────░──╫──╫──░─┤ X ├─■──░─┤M├\n",
       "           ░      └───┘ ░            ░  ║  ║  ░ └───┘    ░ └╥┘\n",
       "c: 3/═══════════════════════════════════╩══╩════════════════╩═\n",
       "                                        0  1                2 "
      ]
     },
     "execution_count": 16,
     "metadata": {},
     "output_type": "execute_result"
    }
   ],
   "source": [
    "qc.cx(0,1)\n",
    "qc.h(0)\n",
    "qc.barrier()\n",
    "qc.measure([0,1],[0,1])\n",
    "qc.barrier()\n",
    "qc.cx(1,2)\n",
    "qc.cz(0,2)\n",
    "qc.barrier()\n",
    "qc.measure(2,2)\n",
    "qc.draw()"
   ]
  },
  {
   "cell_type": "code",
   "execution_count": 17,
   "id": "ff2edf95",
   "metadata": {},
   "outputs": [
    {
     "data": {
      "text/html": [
       "<pre style=\"word-wrap: normal;white-space: pre;background: #fff0;line-height: 1.1;font-family: &quot;Courier New&quot;,Courier,monospace\">     ┌───┐ ░            ░      ┌───┐ ░ ┌─┐    ░          ░    \n",
       "q_0: ┤ X ├─░────────────░───■──┤ H ├─░─┤M├────░───────■──░────\n",
       "     └───┘ ░ ┌───┐      ░ ┌─┴─┐└───┘ ░ └╥┘┌─┐ ░       │  ░    \n",
       "q_1: ──────░─┤ H ├──■───░─┤ X ├──────░──╫─┤M├─░───■───┼──░────\n",
       "           ░ └───┘┌─┴─┐ ░ └───┘      ░  ║ └╥┘ ░ ┌─┴─┐ │  ░ ┌─┐\n",
       "q_2: ──────░──────┤ X ├─░────────────░──╫──╫──░─┤ X ├─■──░─┤M├\n",
       "           ░      └───┘ ░            ░  ║  ║  ░ └───┘    ░ └╥┘\n",
       "c: 3/═══════════════════════════════════╩══╩════════════════╩═\n",
       "                                        0  1                2 </pre>"
      ],
      "text/plain": [
       "     ┌───┐ ░            ░      ┌───┐ ░ ┌─┐    ░          ░    \n",
       "q_0: ┤ X ├─░────────────░───■──┤ H ├─░─┤M├────░───────■──░────\n",
       "     └───┘ ░ ┌───┐      ░ ┌─┴─┐└───┘ ░ └╥┘┌─┐ ░       │  ░    \n",
       "q_1: ──────░─┤ H ├──■───░─┤ X ├──────░──╫─┤M├─░───■───┼──░────\n",
       "           ░ └───┘┌─┴─┐ ░ └───┘      ░  ║ └╥┘ ░ ┌─┴─┐ │  ░ ┌─┐\n",
       "q_2: ──────░──────┤ X ├─░────────────░──╫──╫──░─┤ X ├─■──░─┤M├\n",
       "           ░      └───┘ ░            ░  ║  ║  ░ └───┘    ░ └╥┘\n",
       "c: 3/═══════════════════════════════════╩══╩════════════════╩═\n",
       "                                        0  1                2 "
      ]
     },
     "execution_count": 17,
     "metadata": {},
     "output_type": "execute_result"
    }
   ],
   "source": [
    "\n",
    "qc.draw()"
   ]
  },
  {
   "cell_type": "code",
   "execution_count": 19,
   "id": "dbfb8a4d",
   "metadata": {},
   "outputs": [
    {
     "data": {
      "image/png": "[encoded data removed]",
      "text/plain": [
       "<Figure size 504x360 with 1 Axes>"
      ]
     },
     "execution_count": 19,
     "metadata": {},
     "output_type": "execute_result"
    }
   ],
   "source": [
    "backend = Aer.get_backend('qasm_simulator') \n",
    "results = execute(qc, backend, shots = 2500).result()\n",
    "count =results.get_counts()\n",
    "plot_histogram(count)"
   ]
  },
  {
   "cell_type": "code",
   "execution_count": null,
   "id": "d8ee6ff7",
   "metadata": {},
   "outputs": [],
   "source": []
  }
 ],
 "metadata": {
  "kernelspec": {
   "display_name": "Python 3 (ipykernel)",
   "language": "python",
   "name": "python3"
  },
  "language_info": {
   "codemirror_mode": {
    "name": "ipython",
    "version": 3
   },
   "file_extension": ".py",
   "mimetype": "text/x-python",
   "name": "python",
   "nbconvert_exporter": "python",
   "pygments_lexer": "ipython3",
   "version": "3.9.12"
  }
 },
 "nbformat": 4,
 "nbformat_minor": 5
}
