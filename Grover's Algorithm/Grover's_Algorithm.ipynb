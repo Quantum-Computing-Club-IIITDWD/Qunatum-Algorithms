{
  "nbformat": 4,
  "nbformat_minor": 0,
  "metadata": {
    "colab": {
      "provenance": []
    },
    "kernelspec": {
      "name": "python3",
      "display_name": "Python 3"
    },
    "language_info": {
      "name": "python"
    }
  },
  "cells": [
    {
      "cell_type": "code",
      "source": [
        "#initialization\n",
        "import matplotlib.pyplot as plt\n",
        "import numpy as np\n",
        "\n",
        "# importing Qiskit\n",
        "from qiskit import IBMQ, Aer, assemble, transpile\n",
        "from qiskit import QuantumCircuit, ClassicalRegister, QuantumRegister\n",
        "from qiskit.providers.ibmq import least_busy\n",
        "\n",
        "# import basic plot tools\n",
        "from qiskit.visualization import plot_histogram\n",
        "\n",
        "n = 2\n",
        "grover_circuit = QuantumCircuit(n)\n",
        "\n",
        "def initialize_s(qc, qubits):\n",
        "    \"\"\"Apply a H-gate to 'qubits' in qc\"\"\"\n",
        "    for q in qubits:\n",
        "        qc.h(q)\n",
        "    return qc\n",
        "\n",
        "grover_circuit = initialize_s(grover_circuit, [0,1])\n",
        "grover_circuit.draw()"
      ],
      "metadata": {
        "colab": {
          "base_uri": "https://localhost:8080/",
          "height": 94
        },
        "id": "GuhPZaud56bn",
        "outputId": "25c8caad-7fb4-4f60-c0cc-e9f57f0e3be7"
      },
      "execution_count": 3,
      "outputs": [
        {
          "output_type": "execute_result",
          "data": {
            "text/plain": [
              "     ┌───┐\n",
              "q_0: ┤ H ├\n",
              "     ├───┤\n",
              "q_1: ┤ H ├\n",
              "     └───┘"
            ],
            "text/html": [
              "<pre style=\"word-wrap: normal;white-space: pre;background: #fff0;line-height: 1.1;font-family: &quot;Courier New&quot;,Courier,monospace\">     ┌───┐\n",
              "q_0: ┤ H ├\n",
              "     ├───┤\n",
              "q_1: ┤ H ├\n",
              "     └───┘</pre>"
            ]
          },
          "metadata": {},
          "execution_count": 3
        }
      ]
    },
    {
      "cell_type": "code",
      "source": [
        "grover_circuit.cz(0,1) # Oracle\n",
        "grover_circuit.draw()"
      ],
      "metadata": {
        "colab": {
          "base_uri": "https://localhost:8080/",
          "height": 94
        },
        "id": "i5YQzqeY6GHJ",
        "outputId": "ff28c7aa-8163-4e99-fb5c-9acca8b43d7f"
      },
      "execution_count": 4,
      "outputs": [
        {
          "output_type": "execute_result",
          "data": {
            "text/plain": [
              "     ┌───┐   \n",
              "q_0: ┤ H ├─■─\n",
              "     ├───┤ │ \n",
              "q_1: ┤ H ├─■─\n",
              "     └───┘   "
            ],
            "text/html": [
              "<pre style=\"word-wrap: normal;white-space: pre;background: #fff0;line-height: 1.1;font-family: &quot;Courier New&quot;,Courier,monospace\">     ┌───┐   \n",
              "q_0: ┤ H ├─■─\n",
              "     ├───┤ │ \n",
              "q_1: ┤ H ├─■─\n",
              "     └───┘   </pre>"
            ]
          },
          "metadata": {},
          "execution_count": 4
        }
      ]
    },
    {
      "cell_type": "code",
      "source": [
        "# Diffusion operator (U_s)\n",
        "grover_circuit.h([0,1])\n",
        "grover_circuit.z([0,1])\n",
        "grover_circuit.cz(0,1)\n",
        "grover_circuit.h([0,1])\n",
        "grover_circuit.draw()"
      ],
      "metadata": {
        "colab": {
          "base_uri": "https://localhost:8080/",
          "height": 94
        },
        "id": "2mUHrm3V6LAp",
        "outputId": "02aa8480-bf74-4611-cd89-2b2599a99a51"
      },
      "execution_count": 5,
      "outputs": [
        {
          "output_type": "execute_result",
          "data": {
            "text/plain": [
              "     ┌───┐   ┌───┐┌───┐   ┌───┐\n",
              "q_0: ┤ H ├─■─┤ H ├┤ Z ├─■─┤ H ├\n",
              "     ├───┤ │ ├───┤├───┤ │ ├───┤\n",
              "q_1: ┤ H ├─■─┤ H ├┤ Z ├─■─┤ H ├\n",
              "     └───┘   └───┘└───┘   └───┘"
            ],
            "text/html": [
              "<pre style=\"word-wrap: normal;white-space: pre;background: #fff0;line-height: 1.1;font-family: &quot;Courier New&quot;,Courier,monospace\">     ┌───┐   ┌───┐┌───┐   ┌───┐\n",
              "q_0: ┤ H ├─■─┤ H ├┤ Z ├─■─┤ H ├\n",
              "     ├───┤ │ ├───┤├───┤ │ ├───┤\n",
              "q_1: ┤ H ├─■─┤ H ├┤ Z ├─■─┤ H ├\n",
              "     └───┘   └───┘└───┘   └───┘</pre>"
            ]
          },
          "metadata": {},
          "execution_count": 5
        }
      ]
    },
    {
      "cell_type": "code",
      "source": [
        "grover_circuit.measure_all()\n",
        "\n",
        "aer_sim = Aer.get_backend('aer_simulator')\n",
        "qobj = assemble(grover_circuit)\n",
        "result = aer_sim.run(qobj).result()\n",
        "counts = result.get_counts()\n",
        "plot_histogram(counts)"
      ],
      "metadata": {
        "colab": {
          "base_uri": "https://localhost:8080/",
          "height": 331
        },
        "id": "Xifl39I06M4X",
        "outputId": "c7e71bbc-bd66-47c1-c90d-3df641aa4976"
      },
      "execution_count": 6,
      "outputs": [
        {
          "output_type": "execute_result",
          "data": {
            "text/plain": [
              "<Figure size 504x360 with 1 Axes>"
            ],
            "image/png": "[encoded data removed]"
          },
          "metadata": {},
          "execution_count": 6
        }
      ]
    },
    {
      "cell_type": "markdown",
      "source": [
        "Now, we implement the same for 3 qubits."
      ],
      "metadata": {
        "id": "OiCm92Ln6mKZ"
      }
    },
    {
      "cell_type": "code",
      "source": [
        "qc = QuantumCircuit(3)\n",
        "qc.cz(0, 2)\n",
        "qc.cz(1, 2)\n",
        "oracle_ex3 = qc.to_gate()\n",
        "oracle_ex3.name = \"U$_\\omega$\""
      ],
      "metadata": {
        "id": "AqHX9NUj6pjA"
      },
      "execution_count": 7,
      "outputs": []
    },
    {
      "cell_type": "code",
      "source": [
        "def diffuser(nqubits):\n",
        "    qc = QuantumCircuit(nqubits)\n",
        "    # Apply transformation |s> -> |00..0> (H-gates)\n",
        "    for qubit in range(nqubits):\n",
        "        qc.h(qubit)\n",
        "    # Apply transformation |00..0> -> |11..1> (X-gates)\n",
        "    for qubit in range(nqubits):\n",
        "        qc.x(qubit)\n",
        "    # Do multi-controlled-Z gate\n",
        "    qc.h(nqubits-1)\n",
        "    qc.mct(list(range(nqubits-1)), nqubits-1)  # multi-controlled-toffoli\n",
        "    qc.h(nqubits-1)\n",
        "    # Apply transformation |11..1> -> |00..0>\n",
        "    for qubit in range(nqubits):\n",
        "        qc.x(qubit)\n",
        "    # Apply transformation |00..0> -> |s>\n",
        "    for qubit in range(nqubits):\n",
        "        qc.h(qubit)\n",
        "    # We will return the diffuser as a gate\n",
        "    U_s = qc.to_gate()\n",
        "    U_s.name = \"U$_s$\"\n",
        "    return U_s"
      ],
      "metadata": {
        "id": "f6TL8V6r6rha"
      },
      "execution_count": 8,
      "outputs": []
    },
    {
      "cell_type": "code",
      "source": [
        "n = 3\n",
        "grover_circuit = QuantumCircuit(n)\n",
        "grover_circuit = initialize_s(grover_circuit, [0,1,2])\n",
        "grover_circuit.append(oracle_ex3, [0,1,2])\n",
        "grover_circuit.append(diffuser(n), [0,1,2])\n",
        "grover_circuit.measure_all()\n",
        "grover_circuit.draw()"
      ],
      "metadata": {
        "colab": {
          "base_uri": "https://localhost:8080/",
          "height": 217
        },
        "id": "k5gm0Kr_6u2p",
        "outputId": "a6c5403a-95ab-4cc1-d4dc-d2c2a25c234e"
      },
      "execution_count": 9,
      "outputs": [
        {
          "output_type": "execute_result",
          "data": {
            "text/plain": [
              "        ┌───┐┌─────────────┐┌────────┐ ░ ┌─┐      \n",
              "   q_0: ┤ H ├┤0            ├┤0       ├─░─┤M├──────\n",
              "        ├───┤│             ││        │ ░ └╥┘┌─┐   \n",
              "   q_1: ┤ H ├┤1 U$_\\omega$ ├┤1 U$_s$ ├─░──╫─┤M├───\n",
              "        ├───┤│             ││        │ ░  ║ └╥┘┌─┐\n",
              "   q_2: ┤ H ├┤2            ├┤2       ├─░──╫──╫─┤M├\n",
              "        └───┘└─────────────┘└────────┘ ░  ║  ║ └╥┘\n",
              "meas_0: ══════════════════════════════════╩══╬══╬═\n",
              "                                             ║  ║ \n",
              "meas_1: ═════════════════════════════════════╩══╬═\n",
              "                                                ║ \n",
              "meas_2: ════════════════════════════════════════╩═\n",
              "                                                  "
            ],
            "text/html": [
              "<pre style=\"word-wrap: normal;white-space: pre;background: #fff0;line-height: 1.1;font-family: &quot;Courier New&quot;,Courier,monospace\">        ┌───┐┌─────────────┐┌────────┐ ░ ┌─┐      \n",
              "   q_0: ┤ H ├┤0            ├┤0       ├─░─┤M├──────\n",
              "        ├───┤│             ││        │ ░ └╥┘┌─┐   \n",
              "   q_1: ┤ H ├┤1 U$_\\omega$ ├┤1 U$_s$ ├─░──╫─┤M├───\n",
              "        ├───┤│             ││        │ ░  ║ └╥┘┌─┐\n",
              "   q_2: ┤ H ├┤2            ├┤2       ├─░──╫──╫─┤M├\n",
              "        └───┘└─────────────┘└────────┘ ░  ║  ║ └╥┘\n",
              "meas_0: ══════════════════════════════════╩══╬══╬═\n",
              "                                             ║  ║ \n",
              "meas_1: ═════════════════════════════════════╩══╬═\n",
              "                                                ║ \n",
              "meas_2: ════════════════════════════════════════╩═\n",
              "                                                  </pre>"
            ]
          },
          "metadata": {},
          "execution_count": 9
        }
      ]
    },
    {
      "cell_type": "code",
      "source": [
        "aer_sim = Aer.get_backend('aer_simulator')\n",
        "transpiled_grover_circuit = transpile(grover_circuit, aer_sim)\n",
        "qobj = assemble(transpiled_grover_circuit)\n",
        "results = aer_sim.run(qobj).result()\n",
        "counts = results.get_counts()\n",
        "plot_histogram(counts)"
      ],
      "metadata": {
        "colab": {
          "base_uri": "https://localhost:8080/",
          "height": 339
        },
        "id": "X3YIMuFP6vX0",
        "outputId": "a8466b03-70ac-40d5-e68c-d1b1e7a6cef8"
      },
      "execution_count": 10,
      "outputs": [
        {
          "output_type": "execute_result",
          "data": {
            "text/plain": [
              "<Figure size 504x360 with 1 Axes>"
            ],
            "image/png": "[encoded data removed]"
          },
          "metadata": {},
          "execution_count": 10
        }
      ]
    },
    {
      "cell_type": "code",
      "source": [],
      "metadata": {
        "id": "b6D_klR46yP2"
      },
      "execution_count": null,
      "outputs": []
    }
  ]
}