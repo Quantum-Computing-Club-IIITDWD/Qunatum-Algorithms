{
 "cells": [
  {
   "cell_type": "markdown",
   "id": "f2fa3f03-ec4b-4707-8f37-fb1e7b030031",
   "metadata": {},
   "source": [
    "<u>QISKIT IMPLEMENTATION<u>\n"
   ]
  },
  {
   "cell_type": "code",
   "execution_count": null,
   "id": "7afbe7e5-03f0-41e4-b43a-915169495153",
   "metadata": {},
   "outputs": [],
   "source": [
    "import numpy as np\n",
    "\n",
    "# importing Qiskit\n",
    "from qiskit import IBMQ, Aer\n",
    "from qiskit.providers.ibmq import least_busy\n",
    "from qiskit import QuantumCircuit, assemble, transpile , execute \n",
    "\n",
    "# import basic plot tools\n",
    "from qiskit.visualization import plot_histogram\n",
    "\n"
   ]
  },
  {
   "cell_type": "code",
   "execution_count": 3,
   "id": "b8b0213f-62ac-43f7-ac7f-4aaf2b57a5f4",
   "metadata": {},
   "outputs": [
    {
     "data": {
      "text/html": [
       "<pre style=\"word-wrap: normal;white-space: pre;background: #fff0;line-height: 1.1;font-family: &quot;Courier New&quot;,Courier,monospace\">          \n",
       "q_0: ─────\n",
       "          \n",
       "q_1: ─────\n",
       "          \n",
       "q_2: ─────\n",
       "     ┌───┐\n",
       "q_3: ┤ X ├\n",
       "     └───┘</pre>"
      ],
      "text/plain": [
       "          \n",
       "q_0: ─────\n",
       "          \n",
       "q_1: ─────\n",
       "          \n",
       "q_2: ─────\n",
       "     ┌───┐\n",
       "q_3: ┤ X ├\n",
       "     └───┘"
      ]
     },
     "execution_count": 3,
     "metadata": {},
     "output_type": "execute_result"
    }
   ],
   "source": [
    "import numpy as np \n",
    "from qiskit import QuantumCircuit\n",
    "\n",
    "# set the length of the n-bit input string. \n",
    "n = 3\n",
    "\n",
    "const_oracle = QuantumCircuit(n+1)\n",
    "\n",
    "output = np.random.randint(2)\n",
    "if output == 1:\n",
    "    const_oracle.x(n)\n",
    "\n",
    "const_oracle.draw()\n",
    "\n"
   ]
  },
  {
   "cell_type": "raw",
   "id": "bc90d89d-eefc-4831-9a07-4d098b3b2d22",
   "metadata": {},
   "source": [
    "The size of oracle is set "
   ]
  },
  {
   "cell_type": "raw",
   "id": "93a8794d-1883-48c5-a4e3-032d3c47d759",
   "metadata": {},
   "source": [
    " For each qubit in our circuit, we place an X-gate if the corresponding digit in b_str is 1, or do nothing if the digit is 0."
   ]
  },
  {
   "cell_type": "code",
   "execution_count": 5,
   "id": "d4e42c2e-e626-4d40-95ff-61cbc64e427c",
   "metadata": {},
   "outputs": [
    {
     "data": {
      "text/html": [
       "<pre style=\"word-wrap: normal;white-space: pre;background: #fff0;line-height: 1.1;font-family: &quot;Courier New&quot;,Courier,monospace\">     ┌───┐\n",
       "q_0: ┤ X ├\n",
       "     └───┘\n",
       "q_1: ─────\n",
       "     ┌───┐\n",
       "q_2: ┤ X ├\n",
       "     └───┘\n",
       "q_3: ─────\n",
       "          </pre>"
      ],
      "text/plain": [
       "     ┌───┐\n",
       "q_0: ┤ X ├\n",
       "     └───┘\n",
       "q_1: ─────\n",
       "     ┌───┐\n",
       "q_2: ┤ X ├\n",
       "     └───┘\n",
       "q_3: ─────\n",
       "          "
      ]
     },
     "execution_count": 5,
     "metadata": {},
     "output_type": "execute_result"
    }
   ],
   "source": [
    "balanced_oracle = QuantumCircuit(n+1)\n",
    "b_str = \"101\"\n",
    "\n",
    "# Place X-gates\n",
    "for qubit in range(len(b_str)):\n",
    "    if b_str[qubit] == '1':\n",
    "        balanced_oracle.x(qubit)\n",
    "balanced_oracle.draw()\n",
    "\n",
    "\n"
   ]
  },
  {
   "cell_type": "raw",
   "id": "9d977746-0c7b-4302-90eb-db29b4e7f196",
   "metadata": {},
   "source": [
    " we do CNOT gates, using each input qubit as a control, and the output qubit as a target:"
   ]
  },
  {
   "cell_type": "code",
   "execution_count": 6,
   "id": "4764e066-2ab1-4ec8-a635-2e3ced4ad2be",
   "metadata": {},
   "outputs": [
    {
     "data": {
      "text/html": [
       "<pre style=\"word-wrap: normal;white-space: pre;background: #fff0;line-height: 1.1;font-family: &quot;Courier New&quot;,Courier,monospace\">     ┌───┐ ░                 ░ \n",
       "q_0: ┤ X ├─░───■─────────────░─\n",
       "     └───┘ ░   │             ░ \n",
       "q_1: ──────░───┼────■────────░─\n",
       "     ┌───┐ ░   │    │        ░ \n",
       "q_2: ┤ X ├─░───┼────┼────■───░─\n",
       "     └───┘ ░ ┌─┴─┐┌─┴─┐┌─┴─┐ ░ \n",
       "q_3: ──────░─┤ X ├┤ X ├┤ X ├─░─\n",
       "           ░ └───┘└───┘└───┘ ░ </pre>"
      ],
      "text/plain": [
       "     ┌───┐ ░                 ░ \n",
       "q_0: ┤ X ├─░───■─────────────░─\n",
       "     └───┘ ░   │             ░ \n",
       "q_1: ──────░───┼────■────────░─\n",
       "     ┌───┐ ░   │    │        ░ \n",
       "q_2: ┤ X ├─░───┼────┼────■───░─\n",
       "     └───┘ ░ ┌─┴─┐┌─┴─┐┌─┴─┐ ░ \n",
       "q_3: ──────░─┤ X ├┤ X ├┤ X ├─░─\n",
       "           ░ └───┘└───┘└───┘ ░ "
      ]
     },
     "execution_count": 6,
     "metadata": {},
     "output_type": "execute_result"
    }
   ],
   "source": [
    "balanced_oracle = QuantumCircuit(n+1)\n",
    "b_str = \"101\"\n",
    "\n",
    "# Place X-gates\n",
    "for qubit in range(len(b_str)):\n",
    "    if b_str[qubit] == '1':\n",
    "        balanced_oracle.x(qubit)\n",
    "\n",
    "# Use barrier as divider\n",
    "balanced_oracle.barrier()\n",
    "\n",
    "# Controlled-NOT gates\n",
    "for qubit in range(n):\n",
    "    balanced_oracle.cx(qubit, n)\n",
    "\n",
    "balanced_oracle.barrier()\n",
    "balanced_oracle.draw()\n"
   ]
  },
  {
   "cell_type": "raw",
   "id": "3303473a-38e7-4b47-b792-4929d4b9fc2b",
   "metadata": {},
   "source": [
    "we repeat the code from two cells up to finish wrapping the controls in X-gates:"
   ]
  },
  {
   "cell_type": "code",
   "execution_count": 7,
   "id": "33ed1f6c-1b94-4ae9-9c33-bf9d71c6019f",
   "metadata": {},
   "outputs": [
    {
     "data": {
      "text/html": [
       "<pre style=\"word-wrap: normal;white-space: pre;background: #fff0;line-height: 1.1;font-family: &quot;Courier New&quot;,Courier,monospace\">     ┌───┐ ░                 ░ ┌───┐\n",
       "q_0: ┤ X ├─░───■─────────────░─┤ X ├\n",
       "     └───┘ ░   │             ░ └───┘\n",
       "q_1: ──────░───┼────■────────░──────\n",
       "     ┌───┐ ░   │    │        ░ ┌───┐\n",
       "q_2: ┤ X ├─░───┼────┼────■───░─┤ X ├\n",
       "     └───┘ ░ ┌─┴─┐┌─┴─┐┌─┴─┐ ░ └───┘\n",
       "q_3: ──────░─┤ X ├┤ X ├┤ X ├─░──────\n",
       "           ░ └───┘└───┘└───┘ ░      </pre>"
      ],
      "text/plain": [
       "     ┌───┐ ░                 ░ ┌───┐\n",
       "q_0: ┤ X ├─░───■─────────────░─┤ X ├\n",
       "     └───┘ ░   │             ░ └───┘\n",
       "q_1: ──────░───┼────■────────░──────\n",
       "     ┌───┐ ░   │    │        ░ ┌───┐\n",
       "q_2: ┤ X ├─░───┼────┼────■───░─┤ X ├\n",
       "     └───┘ ░ ┌─┴─┐┌─┴─┐┌─┴─┐ ░ └───┘\n",
       "q_3: ──────░─┤ X ├┤ X ├┤ X ├─░──────\n",
       "           ░ └───┘└───┘└───┘ ░      "
      ]
     },
     "execution_count": 7,
     "metadata": {},
     "output_type": "execute_result"
    }
   ],
   "source": [
    "balanced_oracle = QuantumCircuit(n+1)\n",
    "b_str = \"101\"\n",
    "\n",
    "# Place X-gates\n",
    "for qubit in range(len(b_str)):\n",
    "    if b_str[qubit] == '1':\n",
    "        balanced_oracle.x(qubit)\n",
    "\n",
    "# Use barrier as divider\n",
    "balanced_oracle.barrier()\n",
    "\n",
    "# Controlled-NOT gates\n",
    "for qubit in range(n):\n",
    "    balanced_oracle.cx(qubit, n)\n",
    "\n",
    "balanced_oracle.barrier()\n",
    "\n",
    "# Place X-gates\n",
    "for qubit in range(len(b_str)):\n",
    "    if b_str[qubit] == '1':\n",
    "        balanced_oracle.x(qubit)\n",
    "\n",
    "# Show oracle\n",
    "balanced_oracle.draw()"
   ]
  },
  {
   "cell_type": "raw",
   "id": "9572f334-89b2-4862-a6af-81b9a7838b4a",
   "metadata": {},
   "source": [
    "This is the balanced oracle. Lets now check if Deutsch jozsa algorithm can solve it."
   ]
  },
  {
   "cell_type": "markdown",
   "id": "34203254-849e-4482-bba6-e0b73909ade0",
   "metadata": {},
   "source": [
    "<u>The complete alogrithm:<u>\n",
    "    \n"
   ]
  },
  {
   "cell_type": "raw",
   "id": "975b24fb-80b2-4742-8ed9-920862a2ed0e",
   "metadata": {},
   "source": [
    "On initializing the the input qubits in the state |-⟩ and the output qubit state is |+⟩"
   ]
  },
  {
   "cell_type": "code",
   "execution_count": 8,
   "id": "82ef4935-1bbb-44d1-9163-b0a00cb9c631",
   "metadata": {},
   "outputs": [
    {
     "data": {
      "text/html": [
       "<pre style=\"word-wrap: normal;white-space: pre;background: #fff0;line-height: 1.1;font-family: &quot;Courier New&quot;,Courier,monospace\">     ┌───┐     \n",
       "q_0: ┤ H ├─────\n",
       "     ├───┤     \n",
       "q_1: ┤ H ├─────\n",
       "     ├───┤     \n",
       "q_2: ┤ H ├─────\n",
       "     ├───┤┌───┐\n",
       "q_3: ┤ X ├┤ H ├\n",
       "     └───┘└───┘\n",
       "c: 3/══════════\n",
       "               </pre>"
      ],
      "text/plain": [
       "     ┌───┐     \n",
       "q_0: ┤ H ├─────\n",
       "     ├───┤     \n",
       "q_1: ┤ H ├─────\n",
       "     ├───┤     \n",
       "q_2: ┤ H ├─────\n",
       "     ├───┤┌───┐\n",
       "q_3: ┤ X ├┤ H ├\n",
       "     └───┘└───┘\n",
       "c: 3/══════════\n",
       "               "
      ]
     },
     "execution_count": 8,
     "metadata": {},
     "output_type": "execute_result"
    }
   ],
   "source": [
    "dj_circuit = QuantumCircuit(n+1, n)\n",
    "\n",
    "# Apply H-gates\n",
    "for qubit in range(n):\n",
    "    dj_circuit.h(qubit)\n",
    "\n",
    "# Put qubit in state |->\n",
    "dj_circuit.x(n)\n",
    "dj_circuit.h(n)\n",
    "dj_circuit.draw()"
   ]
  },
  {
   "cell_type": "code",
   "execution_count": 5,
   "id": "7fdbf01d-aa9a-4362-87dd-5aabb16aec91",
   "metadata": {},
   "outputs": [
    {
     "name": "stderr",
     "output_type": "stream",
     "text": [
      "/var/folders/xb/lql0wzy10w551cccc_5mrcdc0000gn/T/ipykernel_39592/2175931689.py:15: DeprecationWarning: The QuantumCircuit.__iadd__() method is being deprecated. Use the compose() (potentially with the inplace=True argument) and tensor() methods which are more flexible w.r.t circuit register compatibility.\n",
      "  dj_circuit += balanced_oracle\n"
     ]
    },
    {
     "data": {
      "text/html": [
       "<pre style=\"word-wrap: normal;white-space: pre;background: #fff0;line-height: 1.1;font-family: &quot;Courier New&quot;,Courier,monospace\">     ┌───┐     \n",
       "q_0: ┤ H ├─────\n",
       "     ├───┤     \n",
       "q_1: ┤ H ├─────\n",
       "     ├───┤     \n",
       "q_2: ┤ H ├─────\n",
       "     ├───┤┌───┐\n",
       "q_3: ┤ X ├┤ H ├\n",
       "     └───┘└───┘\n",
       "c: 3/══════════\n",
       "               </pre>"
      ],
      "text/plain": [
       "     ┌───┐     \n",
       "q_0: ┤ H ├─────\n",
       "     ├───┤     \n",
       "q_1: ┤ H ├─────\n",
       "     ├───┤     \n",
       "q_2: ┤ H ├─────\n",
       "     ├───┤┌───┐\n",
       "q_3: ┤ X ├┤ H ├\n",
       "     └───┘└───┘\n",
       "c: 3/══════════\n",
       "               "
      ]
     },
     "execution_count": 5,
     "metadata": {},
     "output_type": "execute_result"
    }
   ],
   "source": [
    "from qiskit import QuantumCircuit\n",
    "n=3\n",
    "balanced_oracle = QuantumCircuit(n+1)\n",
    "dj_circuit = QuantumCircuit(n+1, n)\n",
    "\n",
    "# Apply H-gates\n",
    "for qubit in range(n):\n",
    "    dj_circuit.h(qubit)\n",
    "\n",
    "# Put qubit in state |->\n",
    "dj_circuit.x(n)\n",
    "dj_circuit.h(n)\n",
    "\n",
    "# Add oracle\n",
    "dj_circuit += balanced_oracle\n",
    "dj_circuit.draw()"
   ]
  },
  {
   "cell_type": "code",
   "execution_count": 6,
   "id": "7aa94627-cfb2-46ca-a04e-c49512b08393",
   "metadata": {},
   "outputs": [
    {
     "name": "stderr",
     "output_type": "stream",
     "text": [
      "/var/folders/xb/lql0wzy10w551cccc_5mrcdc0000gn/T/ipykernel_39592/4233012751.py:13: DeprecationWarning: The QuantumCircuit.__iadd__() method is being deprecated. Use the compose() (potentially with the inplace=True argument) and tensor() methods which are more flexible w.r.t circuit register compatibility.\n",
      "  dj_circuit += balanced_oracle\n"
     ]
    },
    {
     "data": {
      "text/html": [
       "<pre style=\"word-wrap: normal;white-space: pre;background: #fff0;line-height: 1.1;font-family: &quot;Courier New&quot;,Courier,monospace\">     ┌───┐┌───┐ ░ ┌─┐      \n",
       "q_0: ┤ H ├┤ H ├─░─┤M├──────\n",
       "     ├───┤├───┤ ░ └╥┘┌─┐   \n",
       "q_1: ┤ H ├┤ H ├─░──╫─┤M├───\n",
       "     ├───┤├───┤ ░  ║ └╥┘┌─┐\n",
       "q_2: ┤ H ├┤ H ├─░──╫──╫─┤M├\n",
       "     ├───┤├───┤ ░  ║  ║ └╥┘\n",
       "q_3: ┤ X ├┤ H ├─░──╫──╫──╫─\n",
       "     └───┘└───┘ ░  ║  ║  ║ \n",
       "c: 3/══════════════╩══╩══╩═\n",
       "                   0  1  2 </pre>"
      ],
      "text/plain": [
       "     ┌───┐┌───┐ ░ ┌─┐      \n",
       "q_0: ┤ H ├┤ H ├─░─┤M├──────\n",
       "     ├───┤├───┤ ░ └╥┘┌─┐   \n",
       "q_1: ┤ H ├┤ H ├─░──╫─┤M├───\n",
       "     ├───┤├───┤ ░  ║ └╥┘┌─┐\n",
       "q_2: ┤ H ├┤ H ├─░──╫──╫─┤M├\n",
       "     ├───┤├───┤ ░  ║  ║ └╥┘\n",
       "q_3: ┤ X ├┤ H ├─░──╫──╫──╫─\n",
       "     └───┘└───┘ ░  ║  ║  ║ \n",
       "c: 3/══════════════╩══╩══╩═\n",
       "                   0  1  2 "
      ]
     },
     "execution_count": 6,
     "metadata": {},
     "output_type": "execute_result"
    }
   ],
   "source": [
    "dj_circuit = QuantumCircuit(n+1, n)\n",
    "balanced_oracle = QuantumCircuit(n+1)\n",
    "\n",
    "# Apply H-gates\n",
    "for qubit in range(n):\n",
    "    dj_circuit.h(qubit)\n",
    "\n",
    "# Put qubit in state |->\n",
    "dj_circuit.x(n)\n",
    "dj_circuit.h(n)\n",
    "\n",
    "# Add oracle\n",
    "dj_circuit += balanced_oracle\n",
    "\n",
    "# Repeat H-gates\n",
    "for qubit in range(n):\n",
    "    dj_circuit.h(qubit)\n",
    "dj_circuit.barrier()\n",
    "\n",
    "# Measure\n",
    "for i in range(n):\n",
    "    dj_circuit.measure(i, i)\n",
    "\n",
    "# Display circuit\n",
    "dj_circuit.draw()\n"
   ]
  },
  {
   "cell_type": "code",
   "execution_count": 10,
   "id": "62a8b720-5147-4eb7-8551-351b78693758",
   "metadata": {},
   "outputs": [
    {
     "data": {
      "image/png": "[encoded data removed]",
      "text/plain": [
       "<Figure size 504x360 with 1 Axes>"
      ]
     },
     "execution_count": 10,
     "metadata": {},
     "output_type": "execute_result"
    }
   ],
   "source": [
    "from qiskit import Aer\n",
    "from qiskit import assemble\n",
    "from qiskit.visualization import plot_histogram\n",
    "# use local simulator\n",
    "aer_sim = Aer.get_backend('aer_simulator')\n",
    "qobj = assemble(dj_circuit, aer_sim)\n",
    "results = aer_sim.run(qobj).result()\n",
    "answer = results.get_counts()\n",
    "\n",
    "plot_histogram(answer)\n"
   ]
  },
  {
   "cell_type": "code",
   "execution_count": 15,
   "id": "fdcae9be-01dc-46cb-bb5b-2a8fe0a7b6a2",
   "metadata": {},
   "outputs": [
    {
     "name": "stdout",
     "output_type": "stream",
     "text": [
      "Enter size :  4\n"
     ]
    }
   ],
   "source": [
    "import qiskit\n",
    "from qiskit import *\n",
    "from qiskit.visualization import plot_histogram\n",
    "import random\n",
    "\n",
    "size=int(input(\"Enter size : \"))\n",
    "def rand_key(p):\n",
    "    key1 = \"\"\n",
    "    for i in range(p):\n",
    "        temp = str(random.randint(0, 1))\n",
    "        key1 += temp    \n",
    "    return(key1)\n",
    "\n",
    "def xgate(r,p) :\n",
    "    for i in range(p) :\n",
    "        if r[i]=='1' :\n",
    "            qc.x(i)\n",
    "    qc.barrier()"
   ]
  },
  {
   "cell_type": "code",
   "execution_count": 16,
   "id": "0bbe7c10-5e39-4bf6-a47c-1535073760c2",
   "metadata": {},
   "outputs": [
    {
     "data": {
      "text/html": [
       "<pre style=\"word-wrap: normal;white-space: pre;background: #fff0;line-height: 1.1;font-family: &quot;Courier New&quot;,Courier,monospace\">     ┌───┐      ░ ┌───┐ ░       ░ \n",
       "q_0: ┤ H ├──────░─┤ X ├─░───■───░─\n",
       "     ├───┤      ░ ├───┤ ░   │   ░ \n",
       "q_1: ┤ H ├──────░─┤ X ├─░───┼───░─\n",
       "     ├───┤      ░ └───┘ ░   │   ░ \n",
       "q_2: ┤ H ├──────░───────░───┼───░─\n",
       "     ├───┤      ░       ░   │   ░ \n",
       "q_3: ┤ H ├──────░───────░───┼───░─\n",
       "     ├───┤┌───┐ ░       ░ ┌─┴─┐ ░ \n",
       "q_4: ┤ X ├┤ H ├─░───────░─┤ X ├─░─\n",
       "     └───┘└───┘ ░       ░ └───┘ ░ \n",
       "c: 4/═════════════════════════════\n",
       "                                  </pre>"
      ],
      "text/plain": [
       "     ┌───┐      ░ ┌───┐ ░       ░ \n",
       "q_0: ┤ H ├──────░─┤ X ├─░───■───░─\n",
       "     ├───┤      ░ ├───┤ ░   │   ░ \n",
       "q_1: ┤ H ├──────░─┤ X ├─░───┼───░─\n",
       "     ├───┤      ░ └───┘ ░   │   ░ \n",
       "q_2: ┤ H ├──────░───────░───┼───░─\n",
       "     ├───┤      ░       ░   │   ░ \n",
       "q_3: ┤ H ├──────░───────░───┼───░─\n",
       "     ├───┤┌───┐ ░       ░ ┌─┴─┐ ░ \n",
       "q_4: ┤ X ├┤ H ├─░───────░─┤ X ├─░─\n",
       "     └───┘└───┘ ░       ░ └───┘ ░ \n",
       "c: 4/═════════════════════════════\n",
       "                                  "
      ]
     },
     "execution_count": 16,
     "metadata": {},
     "output_type": "execute_result"
    }
   ],
   "source": [
    "qc=QuantumCircuit(size+1,size)\n",
    "\n",
    "inp=rand_key(size)\n",
    "\n",
    "for i in range(size) :\n",
    "    qc.h(i)\n",
    "\n",
    "qc.x(size)\n",
    "qc.h(size)\n",
    "qc.barrier()\n",
    "xgate(inp,size)\n",
    "qc.cx(0,size)\n",
    "qc.barrier()\n",
    "qc.draw()"
   ]
  },
  {
   "cell_type": "code",
   "execution_count": 17,
   "id": "6732049e-f84e-465a-906c-78edfb9c6d4d",
   "metadata": {},
   "outputs": [
    {
     "data": {
      "text/html": [
       "<pre style=\"word-wrap: normal;white-space: pre;background: #fff0;line-height: 1.1;font-family: &quot;Courier New&quot;,Courier,monospace\">     ┌───┐      ░ ┌───┐ ░       ░ ┌───┐ ░ ┌───┐ ░ ┌─┐         \n",
       "q_0: ┤ H ├──────░─┤ X ├─░───■───░─┤ X ├─░─┤ H ├─░─┤M├─────────\n",
       "     ├───┤      ░ ├───┤ ░   │   ░ ├───┤ ░ ├───┤ ░ └╥┘┌─┐      \n",
       "q_1: ┤ H ├──────░─┤ X ├─░───┼───░─┤ X ├─░─┤ H ├─░──╫─┤M├──────\n",
       "     ├───┤      ░ └───┘ ░   │   ░ └───┘ ░ ├───┤ ░  ║ └╥┘┌─┐   \n",
       "q_2: ┤ H ├──────░───────░───┼───░───────░─┤ H ├─░──╫──╫─┤M├───\n",
       "     ├───┤      ░       ░   │   ░       ░ ├───┤ ░  ║  ║ └╥┘┌─┐\n",
       "q_3: ┤ H ├──────░───────░───┼───░───────░─┤ H ├─░──╫──╫──╫─┤M├\n",
       "     ├───┤┌───┐ ░       ░ ┌─┴─┐ ░       ░ └───┘ ░  ║  ║  ║ └╥┘\n",
       "q_4: ┤ X ├┤ H ├─░───────░─┤ X ├─░───────░───────░──╫──╫──╫──╫─\n",
       "     └───┘└───┘ ░       ░ └───┘ ░       ░       ░  ║  ║  ║  ║ \n",
       "c: 4/══════════════════════════════════════════════╩══╩══╩══╩═\n",
       "                                                   0  1  2  3 </pre>"
      ],
      "text/plain": [
       "     ┌───┐      ░ ┌───┐ ░       ░ ┌───┐ ░ ┌───┐ ░ ┌─┐         \n",
       "q_0: ┤ H ├──────░─┤ X ├─░───■───░─┤ X ├─░─┤ H ├─░─┤M├─────────\n",
       "     ├───┤      ░ ├───┤ ░   │   ░ ├───┤ ░ ├───┤ ░ └╥┘┌─┐      \n",
       "q_1: ┤ H ├──────░─┤ X ├─░───┼───░─┤ X ├─░─┤ H ├─░──╫─┤M├──────\n",
       "     ├───┤      ░ └───┘ ░   │   ░ └───┘ ░ ├───┤ ░  ║ └╥┘┌─┐   \n",
       "q_2: ┤ H ├──────░───────░───┼───░───────░─┤ H ├─░──╫──╫─┤M├───\n",
       "     ├───┤      ░       ░   │   ░       ░ ├───┤ ░  ║  ║ └╥┘┌─┐\n",
       "q_3: ┤ H ├──────░───────░───┼───░───────░─┤ H ├─░──╫──╫──╫─┤M├\n",
       "     ├───┤┌───┐ ░       ░ ┌─┴─┐ ░       ░ └───┘ ░  ║  ║  ║ └╥┘\n",
       "q_4: ┤ X ├┤ H ├─░───────░─┤ X ├─░───────░───────░──╫──╫──╫──╫─\n",
       "     └───┘└───┘ ░       ░ └───┘ ░       ░       ░  ║  ║  ║  ║ \n",
       "c: 4/══════════════════════════════════════════════╩══╩══╩══╩═\n",
       "                                                   0  1  2  3 "
      ]
     },
     "execution_count": 17,
     "metadata": {},
     "output_type": "execute_result"
    }
   ],
   "source": [
    "xgate(inp,size)\n",
    "for i in range(size) :\n",
    "    qc.h(i)\n",
    "qc.barrier()\n",
    "for i in range(size) :\n",
    "    qc.measure(i,i)\n",
    "qc.draw()"
   ]
  },
  {
   "cell_type": "code",
   "execution_count": 18,
   "id": "ad65b401-7251-4ace-88b7-dd75301e6b72",
   "metadata": {},
   "outputs": [
    {
     "data": {
      "image/png": "[encoded data removed]",
      "text/plain": [
       "<Figure size 504x360 with 1 Axes>"
      ]
     },
     "execution_count": 18,
     "metadata": {},
     "output_type": "execute_result"
    }
   ],
   "source": [
    "backend = Aer.get_backend('qasm_simulator')\n",
    "results = execute(qc , backend , shots =100000).result()\n",
    "count = results.get_counts()\n",
    "plot_histogram(count)"
   ]
  },
  {
   "cell_type": "code",
   "execution_count": null,
   "id": "24d49249-5933-4b98-a922-53f2a32e70af",
   "metadata": {},
   "outputs": [],
   "source": []
  }
 ],
 "metadata": {
  "kernelspec": {
   "display_name": "Python 3 (ipykernel)",
   "language": "python",
   "name": "python3"
  },
  "language_info": {
   "codemirror_mode": {
    "name": "ipython",
    "version": 3
   },
   "file_extension": ".py",
   "mimetype": "text/x-python",
   "name": "python",
   "nbconvert_exporter": "python",
   "pygments_lexer": "ipython3",
   "version": "3.9.12"
  }
 },
 "nbformat": 4,
 "nbformat_minor": 5
}
