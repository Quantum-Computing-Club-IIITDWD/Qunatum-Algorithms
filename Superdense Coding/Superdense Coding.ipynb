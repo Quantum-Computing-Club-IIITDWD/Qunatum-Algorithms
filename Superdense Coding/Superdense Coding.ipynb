{
 "cells": [
  {
   "cell_type": "code",
   "execution_count": 1,
   "id": "b92ce173",
   "metadata": {},
   "outputs": [],
   "source": [
    "# Importing everything\n",
    "from qiskit import QuantumCircuit\n",
    "from qiskit import IBMQ, Aer\n",
    "from qiskit.visualization import plot_histogram\n",
    "%matplotlib inline"
   ]
  },
  {
   "cell_type": "code",
   "execution_count": 2,
   "id": "8514841f",
   "metadata": {},
   "outputs": [
    {
     "data": {
      "text/html": [
       "<pre style=\"word-wrap: normal;white-space: pre;background: #fff0;line-height: 1.1;font-family: &quot;Courier New&quot;,Courier,monospace\">          ┌───┐ ░ \n",
       "q_0: ─────┤ X ├─░─\n",
       "     ┌───┐└─┬─┘ ░ \n",
       "q_1: ┤ H ├──■───░─\n",
       "     └───┘      ░ </pre>"
      ],
      "text/plain": [
       "          ┌───┐ ░ \n",
       "q_0: ─────┤ X ├─░─\n",
       "     ┌───┐└─┬─┘ ░ \n",
       "q_1: ┤ H ├──■───░─\n",
       "     └───┘      ░ "
      ]
     },
     "execution_count": 2,
     "metadata": {},
     "output_type": "execute_result"
    }
   ],
   "source": [
    "    qc = QuantumCircuit(2) # Declare a Circuit with 2 qubits\n",
    "    qc.h(1)\n",
    "    qc.cx(1, 0)\n",
    "    # make a bell state pair of these two qubits\n",
    "    qc.barrier()\n",
    "    qc.draw()"
   ]
  },
  {
   "cell_type": "code",
   "execution_count": 3,
   "id": "f5c381d5",
   "metadata": {},
   "outputs": [
    {
     "name": "stdout",
     "output_type": "stream",
     "text": [
      "01\n"
     ]
    }
   ],
   "source": [
    " # input the  data that needs to be sent\n",
    "data= str(input())"
   ]
  },
  {
   "cell_type": "code",
   "execution_count": 4,
   "id": "2be0d328",
   "metadata": {},
   "outputs": [
    {
     "data": {
      "text/html": [
       "<pre style=\"word-wrap: normal;white-space: pre;background: #fff0;line-height: 1.1;font-family: &quot;Courier New&quot;,Courier,monospace\">          ┌───┐ ░       ░ \n",
       "q_0: ─────┤ X ├─░───────░─\n",
       "     ┌───┐└─┬─┘ ░ ┌───┐ ░ \n",
       "q_1: ┤ H ├──■───░─┤ X ├─░─\n",
       "     └───┘      ░ └───┘ ░ </pre>"
      ],
      "text/plain": [
       "          ┌───┐ ░       ░ \n",
       "q_0: ─────┤ X ├─░───────░─\n",
       "     ┌───┐└─┬─┘ ░ ┌───┐ ░ \n",
       "q_1: ┤ H ├──■───░─┤ X ├─░─\n",
       "     └───┘      ░ └───┘ ░ "
      ]
     },
     "execution_count": 4,
     "metadata": {},
     "output_type": "execute_result"
    }
   ],
   "source": [
    "    if data[1] == \"1\": # if q1 has 1 apply x gate\n",
    "        qc.x(1)\n",
    "    if data[0] == \"1\": #if q0 has 1 apply z gate\n",
    "        qc.z(1)\n",
    "    qc.barrier()\n",
    "    qc.draw()"
   ]
  },
  {
   "cell_type": "code",
   "execution_count": 5,
   "id": "11555a67",
   "metadata": {
    "scrolled": true
   },
   "outputs": [
    {
     "data": {
      "text/html": [
       "<pre style=\"word-wrap: normal;white-space: pre;background: #fff0;line-height: 1.1;font-family: &quot;Courier New&quot;,Courier,monospace\">             ┌───┐ ░       ░ ┌───┐      ░ ┌─┐   \n",
       "   q_0: ─────┤ X ├─░───────░─┤ X ├──────░─┤M├───\n",
       "        ┌───┐└─┬─┘ ░ ┌───┐ ░ └─┬─┘┌───┐ ░ └╥┘┌─┐\n",
       "   q_1: ┤ H ├──■───░─┤ X ├─░───■──┤ H ├─░──╫─┤M├\n",
       "        └───┘      ░ └───┘ ░      └───┘ ░  ║ └╥┘\n",
       "meas: 2/═══════════════════════════════════╩══╩═\n",
       "                                           0  1 </pre>"
      ],
      "text/plain": [
       "             ┌───┐ ░       ░ ┌───┐      ░ ┌─┐   \n",
       "   q_0: ─────┤ X ├─░───────░─┤ X ├──────░─┤M├───\n",
       "        ┌───┐└─┬─┘ ░ ┌───┐ ░ └─┬─┘┌───┐ ░ └╥┘┌─┐\n",
       "   q_1: ┤ H ├──■───░─┤ X ├─░───■──┤ H ├─░──╫─┤M├\n",
       "        └───┘      ░ └───┘ ░      └───┘ ░  ║ └╥┘\n",
       "meas: 2/═══════════════════════════════════╩══╩═\n",
       "                                           0  1 "
      ]
     },
     "execution_count": 5,
     "metadata": {},
     "output_type": "execute_result"
    }
   ],
   "source": [
    "# collapse the bell state\n",
    "qc.cx(1,0)\n",
    "qc.h(1)\n",
    "# measure the qubits on classical bits\n",
    "qc.measure_all()\n",
    "qc.draw()"
   ]
  },
  {
   "cell_type": "code",
   "execution_count": 6,
   "id": "faa8847a",
   "metadata": {},
   "outputs": [
    {
     "data": {
      "image/png": "[encoded data removed]",
      "text/plain": [
       "<Figure size 718.879x204.68 with 1 Axes>"
      ]
     },
     "execution_count": 6,
     "metadata": {},
     "output_type": "execute_result"
    }
   ],
   "source": [
    "qc.draw(output='mpl')\n",
    "# used matplotlib to plot the circuit"
   ]
  },
  {
   "cell_type": "code",
   "execution_count": 7,
   "id": "b9814bf8",
   "metadata": {},
   "outputs": [
    {
     "data": {
      "image/png": "[encoded data removed]",
      "text/plain": [
       "<Figure size 504x360 with 1 Axes>"
      ]
     },
     "execution_count": 7,
     "metadata": {},
     "output_type": "execute_result"
    }
   ],
   "source": [
    "# use the aer_simulator to simulate the sending and receiving of the information and determining the accuracy of the data received\n",
    "backend=Aer.get_backend('aer_simulator')\n",
    "result=backend.run(qc,shots=1000).result() # ran the test 1000 times for better accuracy\n",
    "counts=result.get_counts()\n",
    "plot_histogram(counts)"
   ]
  }
 ],
 "metadata": {
  "kernelspec": {
   "display_name": "Python 3 (ipykernel)",
   "language": "python",
   "name": "python3"
  },
  "language_info": {
   "codemirror_mode": {
    "name": "ipython",
    "version": 3
   },
   "file_extension": ".py",
   "mimetype": "text/x-python",
   "name": "python",
   "nbconvert_exporter": "python",
   "pygments_lexer": "ipython3",
   "version": "3.9.12"
  }
 },
 "nbformat": 4,
 "nbformat_minor": 5
}
