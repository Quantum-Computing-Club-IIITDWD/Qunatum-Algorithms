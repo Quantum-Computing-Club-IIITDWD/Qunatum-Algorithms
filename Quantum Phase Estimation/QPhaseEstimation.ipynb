{
  "nbformat": 4,
  "nbformat_minor": 0,
  "metadata": {
    "colab": {
      "provenance": []
    },
    "kernelspec": {
      "name": "python3",
      "display_name": "Python 3"
    },
    "language_info": {
      "name": "python"
    }
  },
  "cells": [
    {
      "cell_type": "code",
      "execution_count": 1,
      "metadata": {
        "colab": {
          "base_uri": "https://localhost:8080/"
        },
        "id": "3NGrvYdddOp0",
        "outputId": "30c4f05b-b4f4-4e9f-dbb1-52e6cd14c9a2"
      },
      "outputs": [
        {
          "output_type": "stream",
          "name": "stdout",
          "text": [
            "Looking in indexes: https://pypi.org/simple, https://us-python.pkg.dev/colab-wheels/public/simple/\n",
            "Collecting qiskit\n",
            "  Downloading qiskit-0.39.1.tar.gz (13 kB)\n",
            "Collecting qiskit-terra==0.22.1\n",
            "  Downloading qiskit_terra-0.22.1-cp37-cp37m-manylinux_2_17_x86_64.manylinux2014_x86_64.whl (4.7 MB)\n",
            "\u001b[K     |████████████████████████████████| 4.7 MB 5.0 MB/s \n",
            "\u001b[?25hCollecting qiskit-aer==0.11.1\n",
            "  Downloading qiskit_aer-0.11.1-cp37-cp37m-manylinux_2_17_x86_64.manylinux2014_x86_64.whl (19.2 MB)\n",
            "\u001b[K     |████████████████████████████████| 19.2 MB 352 kB/s \n",
            "\u001b[?25hCollecting qiskit-ibmq-provider==0.19.2\n",
            "  Downloading qiskit_ibmq_provider-0.19.2-py3-none-any.whl (240 kB)\n",
            "\u001b[K     |████████████████████████████████| 240 kB 57.3 MB/s \n",
            "\u001b[?25hRequirement already satisfied: numpy>=1.16.3 in /usr/local/lib/python3.7/dist-packages (from qiskit-aer==0.11.1->qiskit) (1.21.6)\n",
            "Requirement already satisfied: scipy>=1.0 in /usr/local/lib/python3.7/dist-packages (from qiskit-aer==0.11.1->qiskit) (1.7.3)\n",
            "Collecting websocket-client>=1.0.1\n",
            "  Downloading websocket_client-1.4.1-py3-none-any.whl (55 kB)\n",
            "\u001b[K     |████████████████████████████████| 55 kB 3.1 MB/s \n",
            "\u001b[?25hCollecting websockets>=10.0\n",
            "  Downloading websockets-10.4-cp37-cp37m-manylinux_2_5_x86_64.manylinux1_x86_64.manylinux_2_17_x86_64.manylinux2014_x86_64.whl (106 kB)\n",
            "\u001b[K     |████████████████████████████████| 106 kB 65.9 MB/s \n",
            "\u001b[?25hRequirement already satisfied: requests>=2.19 in /usr/local/lib/python3.7/dist-packages (from qiskit-ibmq-provider==0.19.2->qiskit) (2.23.0)\n",
            "Requirement already satisfied: urllib3>=1.21.1 in /usr/local/lib/python3.7/dist-packages (from qiskit-ibmq-provider==0.19.2->qiskit) (1.24.3)\n",
            "Requirement already satisfied: python-dateutil>=2.8.0 in /usr/local/lib/python3.7/dist-packages (from qiskit-ibmq-provider==0.19.2->qiskit) (2.8.2)\n",
            "Collecting requests-ntlm>=1.1.0\n",
            "  Downloading requests_ntlm-1.1.0-py2.py3-none-any.whl (5.7 kB)\n",
            "Requirement already satisfied: typing-extensions in /usr/local/lib/python3.7/dist-packages (from qiskit-terra==0.22.1->qiskit) (4.1.1)\n",
            "Collecting ply>=3.10\n",
            "  Downloading ply-3.11-py2.py3-none-any.whl (49 kB)\n",
            "\u001b[K     |████████████████████████████████| 49 kB 5.8 MB/s \n",
            "\u001b[?25hCollecting retworkx>=0.11.0\n",
            "  Downloading retworkx-0.12.0-py3-none-any.whl (10 kB)\n",
            "Requirement already satisfied: dill>=0.3 in /usr/local/lib/python3.7/dist-packages (from qiskit-terra==0.22.1->qiskit) (0.3.6)\n",
            "Collecting symengine>=0.9\n",
            "  Downloading symengine-0.9.2-cp37-cp37m-manylinux2010_x86_64.whl (37.5 MB)\n",
            "\u001b[K     |████████████████████████████████| 37.5 MB 1.2 MB/s \n",
            "\u001b[?25hCollecting shared-memory38\n",
            "  Downloading shared_memory38-0.1.2-cp37-cp37m-manylinux_2_5_x86_64.manylinux1_x86_64.whl (25 kB)\n",
            "Requirement already satisfied: psutil>=5 in /usr/local/lib/python3.7/dist-packages (from qiskit-terra==0.22.1->qiskit) (5.4.8)\n",
            "Requirement already satisfied: sympy>=1.3 in /usr/local/lib/python3.7/dist-packages (from qiskit-terra==0.22.1->qiskit) (1.7.1)\n",
            "Collecting tweedledum<2.0,>=1.1\n",
            "  Downloading tweedledum-1.1.1-cp37-cp37m-manylinux_2_12_x86_64.manylinux2010_x86_64.whl (943 kB)\n",
            "\u001b[K     |████████████████████████████████| 943 kB 56.4 MB/s \n",
            "\u001b[?25hCollecting stevedore>=3.0.0\n",
            "  Downloading stevedore-3.5.2-py3-none-any.whl (50 kB)\n",
            "\u001b[K     |████████████████████████████████| 50 kB 6.0 MB/s \n",
            "\u001b[?25hRequirement already satisfied: importlib-metadata<5.0 in /usr/local/lib/python3.7/dist-packages (from qiskit-terra==0.22.1->qiskit) (4.13.0)\n",
            "Requirement already satisfied: zipp>=0.5 in /usr/local/lib/python3.7/dist-packages (from importlib-metadata<5.0->qiskit-terra==0.22.1->qiskit) (3.10.0)\n",
            "Requirement already satisfied: six>=1.5 in /usr/local/lib/python3.7/dist-packages (from python-dateutil>=2.8.0->qiskit-ibmq-provider==0.19.2->qiskit) (1.15.0)\n",
            "Requirement already satisfied: idna<3,>=2.5 in /usr/local/lib/python3.7/dist-packages (from requests>=2.19->qiskit-ibmq-provider==0.19.2->qiskit) (2.10)\n",
            "Requirement already satisfied: chardet<4,>=3.0.2 in /usr/local/lib/python3.7/dist-packages (from requests>=2.19->qiskit-ibmq-provider==0.19.2->qiskit) (3.0.4)\n",
            "Requirement already satisfied: certifi>=2017.4.17 in /usr/local/lib/python3.7/dist-packages (from requests>=2.19->qiskit-ibmq-provider==0.19.2->qiskit) (2022.9.24)\n",
            "Collecting cryptography>=1.3\n",
            "  Downloading cryptography-38.0.3-cp36-abi3-manylinux_2_24_x86_64.whl (4.1 MB)\n",
            "\u001b[K     |████████████████████████████████| 4.1 MB 40.9 MB/s \n",
            "\u001b[?25hCollecting ntlm-auth>=1.0.2\n",
            "  Downloading ntlm_auth-1.5.0-py2.py3-none-any.whl (29 kB)\n",
            "Requirement already satisfied: cffi>=1.12 in /usr/local/lib/python3.7/dist-packages (from cryptography>=1.3->requests-ntlm>=1.1.0->qiskit-ibmq-provider==0.19.2->qiskit) (1.15.1)\n",
            "Requirement already satisfied: pycparser in /usr/local/lib/python3.7/dist-packages (from cffi>=1.12->cryptography>=1.3->requests-ntlm>=1.1.0->qiskit-ibmq-provider==0.19.2->qiskit) (2.21)\n",
            "Collecting rustworkx==0.12.0\n",
            "  Downloading rustworkx-0.12.0-cp37-cp37m-manylinux_2_17_x86_64.manylinux2014_x86_64.whl (1.9 MB)\n",
            "\u001b[K     |████████████████████████████████| 1.9 MB 59.5 MB/s \n",
            "\u001b[?25hCollecting pbr!=2.1.0,>=2.0.0\n",
            "  Downloading pbr-5.11.0-py2.py3-none-any.whl (112 kB)\n",
            "\u001b[K     |████████████████████████████████| 112 kB 67.3 MB/s \n",
            "\u001b[?25hRequirement already satisfied: mpmath>=0.19 in /usr/local/lib/python3.7/dist-packages (from sympy>=1.3->qiskit-terra==0.22.1->qiskit) (1.2.1)\n",
            "Building wheels for collected packages: qiskit\n",
            "  Building wheel for qiskit (setup.py) ... \u001b[?25l\u001b[?25hdone\n",
            "  Created wheel for qiskit: filename=qiskit-0.39.1-py3-none-any.whl size=12224 sha256=10c9c84515cbfdc6b2ffb54e4c43280bf0c5a362750e932b4918b564758093c9\n",
            "  Stored in directory: /root/.cache/pip/wheels/5a/65/57/e93e86f4ed53a465100d55efeba42f633d45279aaec21371d4\n",
            "Successfully built qiskit\n",
            "Installing collected packages: rustworkx, pbr, tweedledum, symengine, stevedore, shared-memory38, retworkx, ply, ntlm-auth, cryptography, websockets, websocket-client, requests-ntlm, qiskit-terra, qiskit-ibmq-provider, qiskit-aer, qiskit\n",
            "Successfully installed cryptography-38.0.3 ntlm-auth-1.5.0 pbr-5.11.0 ply-3.11 qiskit-0.39.1 qiskit-aer-0.11.1 qiskit-ibmq-provider-0.19.2 qiskit-terra-0.22.1 requests-ntlm-1.1.0 retworkx-0.12.0 rustworkx-0.12.0 shared-memory38-0.1.2 stevedore-3.5.2 symengine-0.9.2 tweedledum-1.1.1 websocket-client-1.4.1 websockets-10.4\n"
          ]
        }
      ],
      "source": [
        "!pip install qiskit"
      ]
    },
    {
      "cell_type": "code",
      "source": [
        "from qiskit import *"
      ],
      "metadata": {
        "id": "p5dva5nhdXpu"
      },
      "execution_count": 2,
      "outputs": []
    },
    {
      "cell_type": "code",
      "source": [
        "from qiskit.visualization import plot_histogram"
      ],
      "metadata": {
        "id": "-2qA1WbJdoMd"
      },
      "execution_count": 3,
      "outputs": []
    },
    {
      "cell_type": "code",
      "source": [
        "import matplotlib.pyplot as plt\n",
        "import numpy as np\n",
        "import math"
      ],
      "metadata": {
        "id": "FL8FB28Min2J"
      },
      "execution_count": 4,
      "outputs": []
    },
    {
      "cell_type": "code",
      "source": [
        "qc = QuantumCircuit(4,3)\n",
        "qc.x(3)\n",
        "for i in range(3):\n",
        "    qc.h(i)\n",
        "qc.draw()"
      ],
      "metadata": {
        "colab": {
          "base_uri": "https://localhost:8080/",
          "height": 248
        },
        "id": "3rIDqGGijRJN",
        "outputId": "c399a319-b0f9-4755-a402-e8e07fdfb3aa"
      },
      "execution_count": 5,
      "outputs": [
        {
          "output_type": "execute_result",
          "data": {
            "text/plain": [
              "     ┌───┐\n",
              "q_0: ┤ H ├\n",
              "     ├───┤\n",
              "q_1: ┤ H ├\n",
              "     ├───┤\n",
              "q_2: ┤ H ├\n",
              "     ├───┤\n",
              "q_3: ┤ X ├\n",
              "     └───┘\n",
              "c_0: ═════\n",
              "          \n",
              "c_1: ═════\n",
              "          \n",
              "c_2: ═════\n",
              "          "
            ],
            "text/html": [
              "<pre style=\"word-wrap: normal;white-space: pre;background: #fff0;line-height: 1.1;font-family: &quot;Courier New&quot;,Courier,monospace\">     ┌───┐\n",
              "q_0: ┤ H ├\n",
              "     ├───┤\n",
              "q_1: ┤ H ├\n",
              "     ├───┤\n",
              "q_2: ┤ H ├\n",
              "     ├───┤\n",
              "q_3: ┤ X ├\n",
              "     └───┘\n",
              "c_0: ═════\n",
              "          \n",
              "c_1: ═════\n",
              "          \n",
              "c_2: ═════\n",
              "          </pre>"
            ]
          },
          "metadata": {},
          "execution_count": 5
        }
      ]
    },
    {
      "cell_type": "code",
      "source": [
        "repetitions = 1\n",
        "for counting_qubit in range(3):\n",
        "    for i in range(repetitions):\n",
        "        qc.cp(math.pi/4, counting_qubit, 3); # This is CU\n",
        "    repetitions *= 2\n",
        "qc.draw()"
      ],
      "metadata": {
        "colab": {
          "base_uri": "https://localhost:8080/",
          "height": 248
        },
        "id": "zG1AmIuMkA6P",
        "outputId": "32b40489-4e63-4bbf-c78f-93b62ad1f82c"
      },
      "execution_count": 6,
      "outputs": [
        {
          "output_type": "execute_result",
          "data": {
            "text/plain": [
              "     ┌───┐                                                               \n",
              "q_0: ┤ H ├─■─────────────────────────────────────────────────────────────\n",
              "     ├───┤ │                                                             \n",
              "q_1: ┤ H ├─┼────────■────────■───────────────────────────────────────────\n",
              "     ├───┤ │        │        │                                           \n",
              "q_2: ┤ H ├─┼────────┼────────┼────────■────────■────────■────────■───────\n",
              "     ├───┤ │P(π/4)  │P(π/4)  │P(π/4)  │P(π/4)  │P(π/4)  │P(π/4)  │P(π/4) \n",
              "q_3: ┤ X ├─■────────■────────■────────■────────■────────■────────■───────\n",
              "     └───┘                                                               \n",
              "c_0: ════════════════════════════════════════════════════════════════════\n",
              "                                                                         \n",
              "c_1: ════════════════════════════════════════════════════════════════════\n",
              "                                                                         \n",
              "c_2: ════════════════════════════════════════════════════════════════════\n",
              "                                                                         "
            ],
            "text/html": [
              "<pre style=\"word-wrap: normal;white-space: pre;background: #fff0;line-height: 1.1;font-family: &quot;Courier New&quot;,Courier,monospace\">     ┌───┐                                                               \n",
              "q_0: ┤ H ├─■─────────────────────────────────────────────────────────────\n",
              "     ├───┤ │                                                             \n",
              "q_1: ┤ H ├─┼────────■────────■───────────────────────────────────────────\n",
              "     ├───┤ │        │        │                                           \n",
              "q_2: ┤ H ├─┼────────┼────────┼────────■────────■────────■────────■───────\n",
              "     ├───┤ │P(π/4)  │P(π/4)  │P(π/4)  │P(π/4)  │P(π/4)  │P(π/4)  │P(π/4) \n",
              "q_3: ┤ X ├─■────────■────────■────────■────────■────────■────────■───────\n",
              "     └───┘                                                               \n",
              "c_0: ════════════════════════════════════════════════════════════════════\n",
              "                                                                         \n",
              "c_1: ════════════════════════════════════════════════════════════════════\n",
              "                                                                         \n",
              "c_2: ════════════════════════════════════════════════════════════════════\n",
              "                                                                         </pre>"
            ]
          },
          "metadata": {},
          "execution_count": 6
        }
      ]
    },
    {
      "cell_type": "code",
      "source": [
        "def qft_inverse(qc, n): #inverse of Quantum Fourier Transform\n",
        "    for qubit in range(n//2):\n",
        "        qc.swap(qubit, n-qubit-1)\n",
        "    for j in range(n):\n",
        "        for m in range(j):\n",
        "            qc.cp(-math.pi/float(2**(j-m)), m, j)\n",
        "        qc.h(j)"
      ],
      "metadata": {
        "id": "YHR7_Oo8Us3f"
      },
      "execution_count": 8,
      "outputs": []
    },
    {
      "cell_type": "code",
      "source": [
        "qc.barrier()\n",
        "#applying inverse of Quantum Fourier Transform\n",
        "qft_inverse(qc, 3)\n",
        "qc.barrier()\n",
        "for n in range(3):\n",
        "    qc.measure(n,n)"
      ],
      "metadata": {
        "id": "AVGKm-6DiA_A"
      },
      "execution_count": 9,
      "outputs": []
    },
    {
      "cell_type": "code",
      "source": [
        "qc.draw()"
      ],
      "metadata": {
        "colab": {
          "base_uri": "https://localhost:8080/",
          "height": 479
        },
        "id": "Rb_NPWKbjcrK",
        "outputId": "ef502034-854b-4a20-e940-171dc13a0c7e"
      },
      "execution_count": 10,
      "outputs": [
        {
          "output_type": "execute_result",
          "data": {
            "text/plain": [
              "     ┌───┐                                                                ░    »\n",
              "q_0: ┤ H ├─■──────────────────────────────────────────────────────────────░──X─»\n",
              "     ├───┤ │                                                              ░  │ »\n",
              "q_1: ┤ H ├─┼────────■────────■────────────────────────────────────────────░──┼─»\n",
              "     ├───┤ │        │        │                                            ░  │ »\n",
              "q_2: ┤ H ├─┼────────┼────────┼────────■────────■────────■────────■────────░──X─»\n",
              "     ├───┤ │P(π/4)  │P(π/4)  │P(π/4)  │P(π/4)  │P(π/4)  │P(π/4)  │P(π/4)  ░    »\n",
              "q_3: ┤ X ├─■────────■────────■────────■────────■────────■────────■────────░────»\n",
              "     └───┘                                                                ░    »\n",
              "c_0: ══════════════════════════════════════════════════════════════════════════»\n",
              "                                                                               »\n",
              "c_1: ══════════════════════════════════════════════════════════════════════════»\n",
              "                                                                               »\n",
              "c_2: ══════════════════════════════════════════════════════════════════════════»\n",
              "                                                                               »\n",
              "«     ┌───┐                                         ░ ┌─┐      \n",
              "«q_0: ┤ H ├─■──────────────■────────────────────────░─┤M├──────\n",
              "«     └───┘ │P(-π/2) ┌───┐ │                        ░ └╥┘┌─┐   \n",
              "«q_1: ──────■────────┤ H ├─┼─────────■──────────────░──╫─┤M├───\n",
              "«                    └───┘ │P(-π/4)  │P(-π/2) ┌───┐ ░  ║ └╥┘┌─┐\n",
              "«q_2: ─────────────────────■─────────■────────┤ H ├─░──╫──╫─┤M├\n",
              "«                                             └───┘ ░  ║  ║ └╥┘\n",
              "«q_3: ──────────────────────────────────────────────░──╫──╫──╫─\n",
              "«                                                   ░  ║  ║  ║ \n",
              "«c_0: ═════════════════════════════════════════════════╩══╬══╬═\n",
              "«                                                         ║  ║ \n",
              "«c_1: ════════════════════════════════════════════════════╩══╬═\n",
              "«                                                            ║ \n",
              "«c_2: ═══════════════════════════════════════════════════════╩═\n",
              "«                                                              "
            ],
            "text/html": [
              "<pre style=\"word-wrap: normal;white-space: pre;background: #fff0;line-height: 1.1;font-family: &quot;Courier New&quot;,Courier,monospace\">     ┌───┐                                                                ░    »\n",
              "q_0: ┤ H ├─■──────────────────────────────────────────────────────────────░──X─»\n",
              "     ├───┤ │                                                              ░  │ »\n",
              "q_1: ┤ H ├─┼────────■────────■────────────────────────────────────────────░──┼─»\n",
              "     ├───┤ │        │        │                                            ░  │ »\n",
              "q_2: ┤ H ├─┼────────┼────────┼────────■────────■────────■────────■────────░──X─»\n",
              "     ├───┤ │P(π/4)  │P(π/4)  │P(π/4)  │P(π/4)  │P(π/4)  │P(π/4)  │P(π/4)  ░    »\n",
              "q_3: ┤ X ├─■────────■────────■────────■────────■────────■────────■────────░────»\n",
              "     └───┘                                                                ░    »\n",
              "c_0: ══════════════════════════════════════════════════════════════════════════»\n",
              "                                                                               »\n",
              "c_1: ══════════════════════════════════════════════════════════════════════════»\n",
              "                                                                               »\n",
              "c_2: ══════════════════════════════════════════════════════════════════════════»\n",
              "                                                                               »\n",
              "«     ┌───┐                                         ░ ┌─┐      \n",
              "«q_0: ┤ H ├─■──────────────■────────────────────────░─┤M├──────\n",
              "«     └───┘ │P(-π/2) ┌───┐ │                        ░ └╥┘┌─┐   \n",
              "«q_1: ──────■────────┤ H ├─┼─────────■──────────────░──╫─┤M├───\n",
              "«                    └───┘ │P(-π/4)  │P(-π/2) ┌───┐ ░  ║ └╥┘┌─┐\n",
              "«q_2: ─────────────────────■─────────■────────┤ H ├─░──╫──╫─┤M├\n",
              "«                                             └───┘ ░  ║  ║ └╥┘\n",
              "«q_3: ──────────────────────────────────────────────░──╫──╫──╫─\n",
              "«                                                   ░  ║  ║  ║ \n",
              "«c_0: ═════════════════════════════════════════════════╩══╬══╬═\n",
              "«                                                         ║  ║ \n",
              "«c_1: ════════════════════════════════════════════════════╩══╬═\n",
              "«                                                            ║ \n",
              "«c_2: ═══════════════════════════════════════════════════════╩═\n",
              "«                                                              </pre>"
            ]
          },
          "metadata": {},
          "execution_count": 10
        }
      ]
    },
    {
      "cell_type": "code",
      "source": [
        "aer_sim = Aer.get_backend('aer_simulator')\n",
        "shots = 2048\n",
        "t_qc = transpile(qc, aer_sim)\n",
        "qobj = assemble(t_qc, shots=shots)\n",
        "results = aer_sim.run(qobj).result()\n",
        "answer = results.get_counts()\n",
        "\n",
        "plot_histogram(answer)"
      ],
      "metadata": {
        "colab": {
          "base_uri": "https://localhost:8080/",
          "height": 339
        },
        "id": "MLMHaJ-3jfU6",
        "outputId": "07ecf9c8-8a2b-4823-b085-ad966b6f467f"
      },
      "execution_count": 11,
      "outputs": [
        {
          "output_type": "execute_result",
          "data": {
            "text/plain": [
              "<Figure size 504x360 with 1 Axes>"
            ],
            "image/png": "[encoded data removed]"
          },
          "metadata": {},
          "execution_count": 11
        }
      ]
    },
    {
      "cell_type": "code",
      "source": [
        "# we need to divide our result 001 (1) with 2^n to get theta = 1/8."
      ],
      "metadata": {
        "id": "o4vk4yv8j_ed"
      },
      "execution_count": null,
      "outputs": []
    }
  ]
}